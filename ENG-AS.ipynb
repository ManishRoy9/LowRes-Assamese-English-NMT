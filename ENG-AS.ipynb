{
  "cells": [
    {
      "cell_type": "code",
      "execution_count": null,
      "metadata": {
        "colab": {
          "base_uri": "https://localhost:8080/"
        },
        "id": "Qq2w18KQLWnG",
        "outputId": "e2a58f72-ed8c-432f-c859-451f989888fd"
      },
      "outputs": [],
      "source": [
        "!mkdir as\n",
        "%cd as\n",
        "!git clone https://github.com/ManishRoy9/MT-Preperation.git"
      ]
    },
    {
      "cell_type": "code",
      "execution_count": null,
      "metadata": {
        "colab": {
          "base_uri": "https://localhost:8080/"
        },
        "id": "aVoM5w0wRxBD",
        "outputId": "1162accd-c067-4268-ba92-db781402e91e"
      },
      "outputs": [],
      "source": [
        "!pip3 install -r MT-Preparation/requirements.txt"
      ]
    },
    {
      "cell_type": "code",
      "execution_count": null,
      "metadata": {
        "colab": {
          "base_uri": "https://localhost:8080/"
        },
        "id": "W32Y-cDZR0bX",
        "outputId": "d99f4304-c37b-4ac4-c315-ab4ef87ba9dc"
      },
      "outputs": [],
      "source": [
        "!wget https://object.pouta.csc.fi/OPUS-Anuvaad/v1/moses/as-en.txt.zip\n",
        "!unzip as-en.txt.zip"
      ]
    },
    {
      "cell_type": "code",
      "execution_count": null,
      "metadata": {
        "colab": {
          "base_uri": "https://localhost:8080/"
        },
        "id": "7d9f31WcBU9K",
        "outputId": "0e4d5d18-1c0a-4e94-e21b-102b6d87a2f4"
      },
      "outputs": [
        {
          "name": "stdout",
          "output_type": "stream",
          "text": [
            "Anuvaad.as-en.as  Anuvaad.as-en.xml  LICENSE\t     README\n",
            "Anuvaad.as-en.en  as-en.txt.zip      MT-Preparation\n"
          ]
        }
      ],
      "source": [
        "!ls"
      ]
    },
    {
      "cell_type": "code",
      "execution_count": null,
      "metadata": {
        "id": "s5s9OEdcR7Y-"
      },
      "outputs": [],
      "source": [
        "# !python3 MT-Preparation/filter.py GNOME.as-en.en GNOME.as-en.as en as"
      ]
    },
    {
      "cell_type": "code",
      "execution_count": null,
      "metadata": {
        "colab": {
          "base_uri": "https://localhost:8080/"
        },
        "id": "Th5oxMnoBHXi",
        "outputId": "b19fd83a-81e9-4476-f65d-0e893a9e6f84"
      },
      "outputs": [
        {
          "name": "stdout",
          "output_type": "stream",
          "text": [
            "Dataframe shape (rows, columns): (47177, 2)\n",
            "--- Rows with Empty Cells Deleted\t--> Rows: 47174\n",
            "--- Duplicates Deleted\t\t\t--> Rows: 47173\n",
            "--- Source-Copied Rows Deleted\t\t--> Rows: 47152\n",
            "--- Too Long Source/Target Deleted\t--> Rows: 45517\n",
            "--- HTML Removed\t\t\t--> Rows: 45517\n",
            "--- Rows will remain in true-cased\t--> Rows: 45517\n",
            "--- Rows with Empty Cells Deleted\t--> Rows: 45517\n",
            "--- Rows Shuffled\t\t\t--> Rows: 45517\n",
            "--- Source Saved: Anuvaad.as-en.as-filtered.as\n",
            "--- Target Saved: Anuvaad.as-en.en-filtered.en\n"
          ]
        }
      ],
      "source": [
        "!python3 MT-Preparation/filter.py Anuvaad.as-en.as Anuvaad.as-en.en as en"
      ]
    },
    {
      "cell_type": "code",
      "execution_count": null,
      "metadata": {
        "id": "NhepqRuwSUyX"
      },
      "outputs": [],
      "source": [
        "!python MT-Preparation/1-train_bpe.py  GNOME.as-en.en-filtered.en GNOME.as-en.as-filtered.as"
      ]
    },
    {
      "cell_type": "code",
      "execution_count": null,
      "metadata": {
        "colab": {
          "base_uri": "https://localhost:8080/"
        },
        "id": "pjNJkSrjSgrn",
        "outputId": "c26b92ba-d431-47aa-e6a9-1845ea36d0db"
      },
      "outputs": [],
      "source": [
        "!ls"
      ]
    },
    {
      "cell_type": "code",
      "execution_count": null,
      "metadata": {
        "colab": {
          "base_uri": "https://localhost:8080/"
        },
        "id": "rzmw4zggSlpk",
        "outputId": "4d87c4e6-e87e-48ae-b350-2744574d1049"
      },
      "outputs": [],
      "source": [
        "!python3 MT-Preparation/2-subword.py source.model target.model Anuvaad.as-en.en-filtered.en Anuvaad.as-en.as-filtered.as"
      ]
    },
    {
      "cell_type": "code",
      "execution_count": null,
      "metadata": {
        "id": "n7v9NtGaBwVg"
      },
      "outputs": [],
      "source": [
        "# !python3 MT-Preparation/2-subword.py source.model target.model  GNOME.as-en.en-filtered.en GNOME.as-en.as-filtered.as"
      ]
    },
    {
      "cell_type": "code",
      "execution_count": null,
      "metadata": {
        "colab": {
          "base_uri": "https://localhost:8080/"
        },
        "id": "gM54DdVjSqzL",
        "outputId": "8fb2fad8-ec25-41f3-f864-ea1cb370ddaa"
      },
      "outputs": [],
      "source": [
        "!python MT-Preparation/train_dev_test_split.py 4000 4000 Anuvaad.as-en.en-filtered.en.subword Anuvaad.as-en.as-filtered.as.subword"
      ]
    },
    {
      "cell_type": "code",
      "execution_count": null,
      "metadata": {
        "colab": {
          "base_uri": "https://localhost:8080/"
        },
        "id": "IUvC85RvSy2Z",
        "outputId": "e92f1472-b459-43db-b6d5-15df47237424"
      },
      "outputs": [],
      "source": [
        "!wc -l *.subword.*"
      ]
    },
    {
      "cell_type": "code",
      "execution_count": null,
      "metadata": {
        "colab": {
          "base_uri": "https://localhost:8080/"
        },
        "id": "WXrEVAgPS4nV",
        "outputId": "62058bd0-35a1-4f4a-b923-f2a461cd1f48"
      },
      "outputs": [
        {
          "name": "stdout",
          "output_type": "stream",
          "text": [
            "Mounted at /content/drive\n"
          ]
        }
      ],
      "source": [
        "from google.colab import drive\n",
        "drive.mount ('/content/drive')"
      ]
    },
    {
      "cell_type": "code",
      "execution_count": null,
      "metadata": {
        "colab": {
          "base_uri": "https://localhost:8080/"
        },
        "id": "WrqspQpdS4qV",
        "outputId": "5af93906-307f-4721-c14b-115b24906c7b"
      },
      "outputs": [
        {
          "name": "stdout",
          "output_type": "stream",
          "text": [
            "cp: cannot stat '/content/en/': No such file or directory\n"
          ]
        }
      ],
      "source": [
        "!cp -R /content/en/ /content/drive/MyDrive/"
      ]
    },
    {
      "cell_type": "code",
      "execution_count": null,
      "metadata": {
        "id": "NJGOeJmtAoru"
      },
      "outputs": [],
      "source": [
        "%cd /content/drive/MyDrive/en/\n",
        "!ls"
      ]
    },
    {
      "cell_type": "code",
      "execution_count": null,
      "metadata": {
        "id": "eixc-RjLS8SK"
      },
      "outputs": [],
      "source": [
        "!pip3 install OpenNMT-py"
      ]
    },
    {
      "cell_type": "code",
      "execution_count": null,
      "metadata": {
        "id": "529Zm2F2TeLA"
      },
      "outputs": [],
      "source": [
        "# Create the YAML configuration file\n",
        "# On a regular machine, you can create it manually or with nano\n",
        "# Note here we are using some smaller values because the dataset is small\n",
        "# For larger datasets, consider increasing: train_steps, valid_steps, warmup_steps, save_checkpoint_steps, keep_checkpoint\n",
        "\n",
        "config = '''# config.yaml\n",
        "\n",
        "\n",
        "## Where the samples will be written\n",
        "save_data: run\n",
        "\n",
        "# Training files\n",
        "data:\n",
        "    corpus_1:\n",
        "        path_src:   Anuvaad.as-en.en-filtered.en.subword.train\n",
        "        path_tgt:   Anuvaad.as-en.as-filtered.as.subword.train\n",
        "        transforms: [filtertoolong]\n",
        "    valid:\n",
        "        path_src: Anuvaad.as-en.en-filtered.en.subword.dev\n",
        "        path_tgt: Anuvaad.as-en.as-filtered.as.subword.dev\n",
        "        transforms: [filtertoolong]\n",
        "\n",
        "# Vocabulary files, generated by onmt_build_vocab\n",
        "src_vocab: run/source.vocab\n",
        "tgt_vocab: run/target.vocab\n",
        "\n",
        "# Vocabulary size - should be the same as in sentence piece\n",
        "src_vocab_size: 45000\n",
        "tgt_vocab_size: 45000\n",
        "\n",
        "# Filter out source/target longer than n if [filtertoolong] enabled\n",
        "src_seq_length: 150\n",
        "src_seq_length: 150\n",
        "\n",
        "# Tokenization options\n",
        "src_subword_model: source.model\n",
        "tgt_subword_model: target.model\n",
        "\n",
        "# Where to save the log file and the output models/checkpoints\n",
        "log_file: train.log\n",
        "save_model: models/model.as_en\n",
        "\n",
        "# Stop training if it does not imporve after n validations\n",
        "early_stopping: 4\n",
        "\n",
        "# Default: 1000 - Save a model checkpoint for each n\n",
        "save_checkpoint_steps: 1000\n",
        "\n",
        "# To save space, limit checkpoints to last n\n",
        "# keep_checkpoint: 3\n",
        "\n",
        "seed: 3435\n",
        "\n",
        "# Default: 100000 - Train the model to max n steps\n",
        "# Increase to 200000 or more for large datasets\n",
        "# For fine-tuning, add up the required steps to the original steps\n",
        "train_steps: 10000\n",
        "\n",
        "# Default: 15000 - Run validation after n steps\n",
        "valid_steps: 500\n",
        "\n",
        "# Default: 4000 - for large datasets, try up to 8000\n",
        "warmup_steps: 1000\n",
        "report_every: 200\n",
        "\n",
        "# Number of GPUs, and IDs of GPUs\n",
        "world_size: 1\n",
        "gpu_ranks: [0]\n",
        "\n",
        "# Batching\n",
        "bucket_size: 262144\n",
        "num_workers: 0  # Default: 2, set to 0 when RAM out of memory\n",
        "batch_type: \"tokens\"\n",
        "batch_size: 4096   # Tokens per batch, change when CUDA out of memory\n",
        "valid_batch_size: 2048\n",
        "max_generator_batches: 2\n",
        "accum_count: [4]\n",
        "accum_steps: [0]\n",
        "\n",
        "# Optimization\n",
        "model_dtype: \"fp16\"\n",
        "optim: \"adam\"\n",
        "learning_rate: 1\n",
        "# warmup_steps: 8000\n",
        "decay_method: \"noam\"\n",
        "adam_beta2: 0.998\n",
        "max_grad_norm: 0\n",
        "label_smoothing: 0.1\n",
        "param_init: 0\n",
        "param_init_glorot: true\n",
        "normalization: \"tokens\"\n",
        "\n",
        "# Model\n",
        "encoder_type: transformer\n",
        "decoder_type: transformer\n",
        "position_encoding: true\n",
        "enc_layers: 6\n",
        "dec_layers: 6\n",
        "heads: 8\n",
        "hidden_size: 512\n",
        "word_vec_size: 512\n",
        "transformer_ff: 2048\n",
        "dropout_steps: [0]\n",
        "dropout: [0.1]\n",
        "attention_dropout: [0.1]\n",
        "'''\n",
        "\n",
        "with open(\"config.yaml\", \"w+\") as config_yaml:\n",
        "  config_yaml.write(config)"
      ]
    },
    {
      "cell_type": "code",
      "execution_count": null,
      "metadata": {
        "id": "-WdL65-bTj7n"
      },
      "outputs": [],
      "source": [
        "!cat config.yaml"
      ]
    },
    {
      "cell_type": "code",
      "execution_count": null,
      "metadata": {
        "colab": {
          "base_uri": "https://localhost:8080/"
        },
        "id": "tf_FUdJETn17",
        "outputId": "02aa7e21-bba6-4be0-bed7-e42539d85ca9"
      },
      "outputs": [
        {
          "name": "stdout",
          "output_type": "stream",
          "text": [
            "2\n"
          ]
        }
      ],
      "source": [
        "!nproc --all"
      ]
    },
    {
      "cell_type": "code",
      "execution_count": null,
      "metadata": {
        "colab": {
          "base_uri": "https://localhost:8080/"
        },
        "id": "oUy54BCITsqw",
        "outputId": "2c89d75d-2101-4dd0-9d59-d2a786ea7649"
      },
      "outputs": [],
      "source": [
        "!onmt_build_vocab -config config.yaml -n_sample -1 -num_threads 2"
      ]
    },
    {
      "cell_type": "code",
      "execution_count": null,
      "metadata": {
        "colab": {
          "base_uri": "https://localhost:8080/"
        },
        "id": "GHgCzgXATuV1",
        "outputId": "b4976f33-3fd3-46c2-a804-468e49a56799"
      },
      "outputs": [],
      "source": [
        "!nvidia-smi -L"
      ]
    },
    {
      "cell_type": "code",
      "execution_count": null,
      "metadata": {
        "colab": {
          "base_uri": "https://localhost:8080/"
        },
        "id": "tbi0pmXn1i5g",
        "outputId": "722882f7-493b-4d3b-ad26-1e62f6d36391"
      },
      "outputs": [],
      "source": [
        "!ls"
      ]
    },
    {
      "cell_type": "code",
      "execution_count": null,
      "metadata": {
        "id": "A_xaNnm2T2lX"
      },
      "outputs": [],
      "source": [
        "!rm -rf drive/MyDrive/en/models/"
      ]
    },
    {
      "cell_type": "code",
      "execution_count": null,
      "metadata": {
        "id": "sA3lmes4UTMs"
      },
      "outputs": [],
      "source": [
        "!onmt_train -config config.yaml"
      ]
    },
    {
      "cell_type": "code",
      "execution_count": null,
      "metadata": {
        "colab": {
          "base_uri": "https://localhost:8080/"
        },
        "id": "5Dfe-FknmFMt",
        "outputId": "bb2c1950-d9df-4f62-9a22-85afb831d257"
      },
      "outputs": [],
      "source": [
        "!onmt_translate -model models/model.as_en_step_2000.pt -src  Anuvaad.as-en.en-filtered.en.subword.test -output  Anuvaad.as.translated -gpu 0 -min_length 1"
      ]
    },
    {
      "cell_type": "code",
      "execution_count": null,
      "metadata": {
        "id": "P32sXtxnmL1N"
      },
      "outputs": [],
      "source": [
        "!pip3 install --upgrade -q sentencepiece"
      ]
    },
    {
      "cell_type": "code",
      "execution_count": null,
      "metadata": {
        "colab": {
          "base_uri": "https://localhost:8080/"
        },
        "id": "DG1BKzyxmOPr",
        "outputId": "e10e4888-d5ae-4794-d38b-4c74578c75d0"
      },
      "outputs": [],
      "source": [
        "!python3 MT-Preparation/3-desubword.py target.model Anuvaad.as-en.as-filtered.as.subword.test"
      ]
    },
    {
      "cell_type": "code",
      "execution_count": null,
      "metadata": {
        "colab": {
          "base_uri": "https://localhost:8080/"
        },
        "id": "2reW_vkZmO4z",
        "outputId": "ec3bfcb0-f1ea-49fa-810c-509db78c18fb"
      },
      "outputs": [],
      "source": [
        "!python3 MT-Preparation/3-desubword.py target.model Anuvaad.as.translated"
      ]
    },
    {
      "cell_type": "code",
      "execution_count": null,
      "metadata": {
        "colab": {
          "base_uri": "https://localhost:8080/"
        },
        "id": "skMtyBPcmQs1",
        "outputId": "50e252c8-e324-4bdf-fd0d-7ad61a782542"
      },
      "outputs": [
        {
          "name": "stdout",
          "output_type": "stream",
          "text": [
            "--2023-07-10 05:52:57--  https://raw.githubusercontent.com/ymoslem/MT-Evaluation/main/BLEU/compute-bleu.py\n",
            "Resolving raw.githubusercontent.com (raw.githubusercontent.com)... 185.199.108.133, 185.199.109.133, 185.199.110.133, ...\n",
            "Connecting to raw.githubusercontent.com (raw.githubusercontent.com)|185.199.108.133|:443... connected.\n",
            "HTTP request sent, awaiting response... 200 OK\n",
            "Length: 957 [text/plain]\n",
            "Saving to: ‘compute-bleu.py’\n",
            "\n",
            "compute-bleu.py     100%[===================>]     957  --.-KB/s    in 0s      \n",
            "\n",
            "2023-07-10 05:52:57 (27.3 MB/s) - ‘compute-bleu.py’ saved [957/957]\n",
            "\n"
          ]
        }
      ],
      "source": [
        "!wget https://raw.githubusercontent.com/ymoslem/MT-Evaluation/main/BLEU/compute-bleu.py"
      ]
    },
    {
      "cell_type": "code",
      "execution_count": null,
      "metadata": {
        "colab": {
          "base_uri": "https://localhost:8080/"
        },
        "id": "pLkpwmB2mST1",
        "outputId": "5e1e86cd-782f-431e-8aef-37f61de4eb98"
      },
      "outputs": [
        {
          "name": "stdout",
          "output_type": "stream",
          "text": [
            "Requirement already satisfied: sacrebleu in /usr/local/lib/python3.10/dist-packages (2.3.1)\n",
            "Requirement already satisfied: portalocker in /usr/local/lib/python3.10/dist-packages (from sacrebleu) (2.7.0)\n",
            "Requirement already satisfied: regex in /usr/local/lib/python3.10/dist-packages (from sacrebleu) (2022.10.31)\n",
            "Requirement already satisfied: tabulate>=0.8.9 in /usr/local/lib/python3.10/dist-packages (from sacrebleu) (0.8.10)\n",
            "Requirement already satisfied: numpy>=1.17 in /usr/local/lib/python3.10/dist-packages (from sacrebleu) (1.22.4)\n",
            "Requirement already satisfied: colorama in /usr/local/lib/python3.10/dist-packages (from sacrebleu) (0.4.6)\n",
            "Requirement already satisfied: lxml in /usr/local/lib/python3.10/dist-packages (from sacrebleu) (4.9.2)\n"
          ]
        }
      ],
      "source": [
        "!pip3 install sacrebleu"
      ]
    },
    {
      "cell_type": "code",
      "execution_count": null,
      "metadata": {
        "colab": {
          "base_uri": "https://localhost:8080/"
        },
        "id": "aGPMlmKJmUUV",
        "outputId": "14c8d12f-1f0f-4f9d-d1dc-dbbe041663ce"
      },
      "outputs": [],
      "source": [
        "!python3 compute-bleu.py Anuvaad.as-en.as-filtered.as.subword.test.desubword Anuvaad.as.translated.desubword"
      ]
    },
    {
      "cell_type": "markdown",
      "metadata": {
        "id": "uye-MO8ttM1F"
      },
      "source": [
        "OPUS"
      ]
    },
    {
      "cell_type": "code",
      "execution_count": null,
      "metadata": {
        "colab": {
          "base_uri": "https://localhost:8080/",
          "height": 73
        },
        "id": "EMMGeBQHtOPv",
        "outputId": "93462e07-1d74-40e8-aa47-654650376e5f"
      },
      "outputs": [
        {
          "data": {
            "text/html": [
              "\n",
              "     <input type=\"file\" id=\"files-3060c912-f30f-470e-aee7-562706641e02\" name=\"files[]\" multiple disabled\n",
              "        style=\"border:none\" />\n",
              "     <output id=\"result-3060c912-f30f-470e-aee7-562706641e02\">\n",
              "      Upload widget is only available when the cell has been executed in the\n",
              "      current browser session. Please rerun this cell to enable.\n",
              "      </output>\n",
              "      <script>// Copyright 2017 Google LLC\n",
              "//\n",
              "// Licensed under the Apache License, Version 2.0 (the \"License\");\n",
              "// you may not use this file except in compliance with the License.\n",
              "// You may obtain a copy of the License at\n",
              "//\n",
              "//      http://www.apache.org/licenses/LICENSE-2.0\n",
              "//\n",
              "// Unless required by applicable law or agreed to in writing, software\n",
              "// distributed under the License is distributed on an \"AS IS\" BASIS,\n",
              "// WITHOUT WARRANTIES OR CONDITIONS OF ANY KIND, either express or implied.\n",
              "// See the License for the specific language governing permissions and\n",
              "// limitations under the License.\n",
              "\n",
              "/**\n",
              " * @fileoverview Helpers for google.colab Python module.\n",
              " */\n",
              "(function(scope) {\n",
              "function span(text, styleAttributes = {}) {\n",
              "  const element = document.createElement('span');\n",
              "  element.textContent = text;\n",
              "  for (const key of Object.keys(styleAttributes)) {\n",
              "    element.style[key] = styleAttributes[key];\n",
              "  }\n",
              "  return element;\n",
              "}\n",
              "\n",
              "// Max number of bytes which will be uploaded at a time.\n",
              "const MAX_PAYLOAD_SIZE = 100 * 1024;\n",
              "\n",
              "function _uploadFiles(inputId, outputId) {\n",
              "  const steps = uploadFilesStep(inputId, outputId);\n",
              "  const outputElement = document.getElementById(outputId);\n",
              "  // Cache steps on the outputElement to make it available for the next call\n",
              "  // to uploadFilesContinue from Python.\n",
              "  outputElement.steps = steps;\n",
              "\n",
              "  return _uploadFilesContinue(outputId);\n",
              "}\n",
              "\n",
              "// This is roughly an async generator (not supported in the browser yet),\n",
              "// where there are multiple asynchronous steps and the Python side is going\n",
              "// to poll for completion of each step.\n",
              "// This uses a Promise to block the python side on completion of each step,\n",
              "// then passes the result of the previous step as the input to the next step.\n",
              "function _uploadFilesContinue(outputId) {\n",
              "  const outputElement = document.getElementById(outputId);\n",
              "  const steps = outputElement.steps;\n",
              "\n",
              "  const next = steps.next(outputElement.lastPromiseValue);\n",
              "  return Promise.resolve(next.value.promise).then((value) => {\n",
              "    // Cache the last promise value to make it available to the next\n",
              "    // step of the generator.\n",
              "    outputElement.lastPromiseValue = value;\n",
              "    return next.value.response;\n",
              "  });\n",
              "}\n",
              "\n",
              "/**\n",
              " * Generator function which is called between each async step of the upload\n",
              " * process.\n",
              " * @param {string} inputId Element ID of the input file picker element.\n",
              " * @param {string} outputId Element ID of the output display.\n",
              " * @return {!Iterable<!Object>} Iterable of next steps.\n",
              " */\n",
              "function* uploadFilesStep(inputId, outputId) {\n",
              "  const inputElement = document.getElementById(inputId);\n",
              "  inputElement.disabled = false;\n",
              "\n",
              "  const outputElement = document.getElementById(outputId);\n",
              "  outputElement.innerHTML = '';\n",
              "\n",
              "  const pickedPromise = new Promise((resolve) => {\n",
              "    inputElement.addEventListener('change', (e) => {\n",
              "      resolve(e.target.files);\n",
              "    });\n",
              "  });\n",
              "\n",
              "  const cancel = document.createElement('button');\n",
              "  inputElement.parentElement.appendChild(cancel);\n",
              "  cancel.textContent = 'Cancel upload';\n",
              "  const cancelPromise = new Promise((resolve) => {\n",
              "    cancel.onclick = () => {\n",
              "      resolve(null);\n",
              "    };\n",
              "  });\n",
              "\n",
              "  // Wait for the user to pick the files.\n",
              "  const files = yield {\n",
              "    promise: Promise.race([pickedPromise, cancelPromise]),\n",
              "    response: {\n",
              "      action: 'starting',\n",
              "    }\n",
              "  };\n",
              "\n",
              "  cancel.remove();\n",
              "\n",
              "  // Disable the input element since further picks are not allowed.\n",
              "  inputElement.disabled = true;\n",
              "\n",
              "  if (!files) {\n",
              "    return {\n",
              "      response: {\n",
              "        action: 'complete',\n",
              "      }\n",
              "    };\n",
              "  }\n",
              "\n",
              "  for (const file of files) {\n",
              "    const li = document.createElement('li');\n",
              "    li.append(span(file.name, {fontWeight: 'bold'}));\n",
              "    li.append(span(\n",
              "        `(${file.type || 'n/a'}) - ${file.size} bytes, ` +\n",
              "        `last modified: ${\n",
              "            file.lastModifiedDate ? file.lastModifiedDate.toLocaleDateString() :\n",
              "                                    'n/a'} - `));\n",
              "    const percent = span('0% done');\n",
              "    li.appendChild(percent);\n",
              "\n",
              "    outputElement.appendChild(li);\n",
              "\n",
              "    const fileDataPromise = new Promise((resolve) => {\n",
              "      const reader = new FileReader();\n",
              "      reader.onload = (e) => {\n",
              "        resolve(e.target.result);\n",
              "      };\n",
              "      reader.readAsArrayBuffer(file);\n",
              "    });\n",
              "    // Wait for the data to be ready.\n",
              "    let fileData = yield {\n",
              "      promise: fileDataPromise,\n",
              "      response: {\n",
              "        action: 'continue',\n",
              "      }\n",
              "    };\n",
              "\n",
              "    // Use a chunked sending to avoid message size limits. See b/62115660.\n",
              "    let position = 0;\n",
              "    do {\n",
              "      const length = Math.min(fileData.byteLength - position, MAX_PAYLOAD_SIZE);\n",
              "      const chunk = new Uint8Array(fileData, position, length);\n",
              "      position += length;\n",
              "\n",
              "      const base64 = btoa(String.fromCharCode.apply(null, chunk));\n",
              "      yield {\n",
              "        response: {\n",
              "          action: 'append',\n",
              "          file: file.name,\n",
              "          data: base64,\n",
              "        },\n",
              "      };\n",
              "\n",
              "      let percentDone = fileData.byteLength === 0 ?\n",
              "          100 :\n",
              "          Math.round((position / fileData.byteLength) * 100);\n",
              "      percent.textContent = `${percentDone}% done`;\n",
              "\n",
              "    } while (position < fileData.byteLength);\n",
              "  }\n",
              "\n",
              "  // All done.\n",
              "  yield {\n",
              "    response: {\n",
              "      action: 'complete',\n",
              "    }\n",
              "  };\n",
              "}\n",
              "\n",
              "scope.google = scope.google || {};\n",
              "scope.google.colab = scope.google.colab || {};\n",
              "scope.google.colab._files = {\n",
              "  _uploadFiles,\n",
              "  _uploadFilesContinue,\n",
              "};\n",
              "})(self);\n",
              "</script> "
            ],
            "text/plain": [
              "<IPython.core.display.HTML object>"
            ]
          },
          "metadata": {},
          "output_type": "display_data"
        },
        {
          "name": "stdout",
          "output_type": "stream",
          "text": [
            "Saving pmindia.as-en.as to pmindia.as-en.as\n"
          ]
        }
      ],
      "source": [
        "from google.colab import files\n",
        "uploaded = files.upload()"
      ]
    },
    {
      "cell_type": "code",
      "execution_count": null,
      "metadata": {
        "colab": {
          "base_uri": "https://localhost:8080/"
        },
        "id": "kUS0nHtitRI3",
        "outputId": "2d8e0b74-4150-453d-dcad-6882365407ba"
      },
      "outputs": [
        {
          "name": "stdout",
          "output_type": "stream",
          "text": [
            "Dataframe shape (rows, columns): (9733, 1)\n",
            "--- Rows with Empty Cells Deleted\t--> Rows: 9732\n",
            "--- Duplicates Deleted\t\t\t--> Rows: 9705\n",
            "--- Too Long Rows Deleted\t\t--> Rows: 9698\n",
            "--- HTML Removed\t\t\t--> Rows: 9698\n",
            "--- Rows will remain in true-cased\t--> Rows: 9698\n",
            "--- Rows with Empty Cells Deleted\t--> Rows: 9698\n",
            "--- Rows Shuffled\t\t\t--> Rows: 9698\n",
            "--- Filtered Data Saved: pmindia.as-en.as-filtered.as\n"
          ]
        }
      ],
      "source": [
        "!python3 MT-Preparation/filter1.py pmindia.as-en.as as"
      ]
    },
    {
      "cell_type": "code",
      "execution_count": null,
      "metadata": {
        "id": "O_X0t5z0tTub"
      },
      "outputs": [],
      "source": [
        "!python MT-Preparation/1-train_bpe1.py pmindia.as-en.en-filtered.en en"
      ]
    },
    {
      "cell_type": "code",
      "execution_count": null,
      "metadata": {
        "colab": {
          "base_uri": "https://localhost:8080/"
        },
        "id": "JSoEMMN6tXyD",
        "outputId": "ef43e355-e9fd-4a38-d2af-734c31555bdc"
      },
      "outputs": [],
      "source": [
        "!python3 MT-Preparation/2-subword1.py en.model pmindia.as-en.en-filtered.en"
      ]
    },
    {
      "cell_type": "code",
      "execution_count": null,
      "metadata": {
        "colab": {
          "background_save": true,
          "base_uri": "https://localhost:8080/"
        },
        "id": "kJToSYmgtczN",
        "outputId": "19d63a95-5b7e-44c4-d676-ce6c46ea5de9"
      },
      "outputs": [],
      "source": [
        "!onmt_translate -model models/model.as_en_step_2000.pt -src  pmindia.as-en.en-filtered.en.subword -output  pmindia.as.translated -gpu 0 -min_length 1"
      ]
    },
    {
      "cell_type": "code",
      "execution_count": null,
      "metadata": {
        "colab": {
          "base_uri": "https://localhost:8080/"
        },
        "id": "qCzKhjJOzed1",
        "outputId": "dec13b0e-0462-459d-f7e3-ee316f4d2fb5"
      },
      "outputs": [],
      "source": [
        "!python3 MT-Preparation/3-desubword.py target.model pmindia.as.translated"
      ]
    },
    {
      "cell_type": "code",
      "execution_count": null,
      "metadata": {
        "colab": {
          "base_uri": "https://localhost:8080/"
        },
        "id": "59bPaTpUzljI",
        "outputId": "676c9d15-0c3a-4379-ced0-86a4ca6f761c"
      },
      "outputs": [],
      "source": [
        "!python3 MT-Preparation/3-desubword.py as.model pmindia.as-en.en-filtered.en.subword"
      ]
    },
    {
      "cell_type": "code",
      "execution_count": null,
      "metadata": {
        "colab": {
          "base_uri": "https://localhost:8080/"
        },
        "id": "CdJgiXsxzuUa",
        "outputId": "d6c5f447-78fe-4238-d1c3-9f6dc6d218a6"
      },
      "outputs": [],
      "source": [
        "!head -n 10 pmindia.as.translated.desubword"
      ]
    },
    {
      "cell_type": "code",
      "execution_count": null,
      "metadata": {
        "colab": {
          "base_uri": "https://localhost:8080/"
        },
        "id": "A1-M7CiYbYSa",
        "outputId": "44bc41b0-c0bb-4da5-920f-e46992e40d45"
      },
      "outputs": [],
      "source": [
        "!head -n 10 pmindia.as-en.as-filtered.as.subword.desubword"
      ]
    },
    {
      "cell_type": "code",
      "execution_count": null,
      "metadata": {
        "id": "yOr29F-LlzZR"
      },
      "outputs": [],
      "source": [
        "pip install sentence-transformers"
      ]
    },
    {
      "cell_type": "code",
      "execution_count": null,
      "metadata": {
        "id": "javUR057jUh6"
      },
      "outputs": [],
      "source": [
        "from sentence_transformers import SentenceTransformer\n",
        "from sklearn.metrics.pairwise import cosine_similarity\n",
        "\n",
        "def filter_low_quality_backtranslations(source_texts, back_translations, threshold):\n",
        "    model = SentenceTransformer('xlm-roberta-base')\n",
        "\n",
        "    embeddings_source = model.encode(source_texts)\n",
        "    embeddings_back = model.encode(back_translations)\n",
        "\n",
        "    filtered_translations = [\n",
        "        back_translations[i]\n",
        "        for i in range(len(embeddings_source))\n",
        "        if cosine_similarity([embeddings_source[i]], [embeddings_back[i]]) >= threshold\n",
        "    ]\n",
        "\n",
        "    return filtered_translations\n",
        "\n",
        "with open('pmindia.as-en.en-filtered.en.subword.desubword', 'r', encoding='utf-8') as file:\n",
        "    source_texts = file.read().splitlines()\n",
        "\n",
        "with open('pmindia.as.translated.desubword', 'r', encoding='utf-8') as file:\n",
        "    back_translations = file.read().splitlines()\n",
        "\n",
        "threshold = 0.9 # Set your desired threshold\n",
        "\n",
        "filtered_translations = filter_low_quality_backtranslations(source_texts, back_translations, threshold)\n",
        "print(filtered_translations)\n"
      ]
    },
    {
      "cell_type": "code",
      "execution_count": null,
      "metadata": {
        "colab": {
          "base_uri": "https://localhost:8080/"
        },
        "id": "dtk_Y4oIs85F",
        "outputId": "aa4a33d8-fbc0-412a-876c-6da84d2ae989"
      },
      "outputs": [],
      "source": [
        "!python3 MT-Preparation/add_tag.py pmindia.as.translated.desubword bt"
      ]
    },
    {
      "cell_type": "code",
      "execution_count": null,
      "metadata": {
        "colab": {
          "base_uri": "https://localhost:8080/"
        },
        "id": "kuaOS4QeuCgm",
        "outputId": "471ad91a-e8d3-4343-e790-0f5fbd9d893f"
      },
      "outputs": [],
      "source": [
        "!python3 MT-Preparation/add_tag.py pmindia.as-en.en-filtered.en.subword.desubword bt"
      ]
    },
    {
      "cell_type": "code",
      "execution_count": null,
      "metadata": {
        "colab": {
          "base_uri": "https://localhost:8080/"
        },
        "id": "qfnksWpUtqDZ",
        "outputId": "3538fbaa-a143-4004-a539-32548e4e7ea4"
      },
      "outputs": [],
      "source": [
        "!head -n 10 pmindia.en.translated.desubword.en"
      ]
    },
    {
      "cell_type": "code",
      "execution_count": null,
      "metadata": {
        "colab": {
          "base_uri": "https://localhost:8080/"
        },
        "id": "hNRpbQFlzocw",
        "outputId": "abc56afb-759a-4d06-fe79-88cca4849742"
      },
      "outputs": [],
      "source": [
        "!head -n 10 pmindia.as-en.as-filtered.as.subword.desubword.en"
      ]
    },
    {
      "cell_type": "code",
      "execution_count": null,
      "metadata": {
        "id": "9ky_g08hTcu9"
      },
      "outputs": [],
      "source": [
        "# Specify the file paths\n",
        "file1_path = 'Anuvaad.as-en.as-filtered.as'\n",
        "file2_path = 'pmindia.as.translated.desubword.en'\n",
        "merged_file_path = 'english_final1.txt'\n",
        "\n",
        "# Read the content of file1\n",
        "with open(file1_path, 'r') as file1:\n",
        "    file1_content = file1.read()\n",
        "\n",
        "# Read the content of file2\n",
        "with open(file2_path, 'r') as file2:\n",
        "    file2_content = file2.read()\n",
        "\n",
        "# Concatenate the contents of file1 and file2\n",
        "merged_content = file1_content + file2_content\n",
        "\n",
        "# Write the merged content to the merged file\n",
        "with open(merged_file_path, 'w') as merged_file:\n",
        "    merged_file.write(merged_content)\n"
      ]
    },
    {
      "cell_type": "code",
      "execution_count": null,
      "metadata": {
        "id": "Ux-bqRU_VMlH"
      },
      "outputs": [],
      "source": [
        "# Specify the file paths\n",
        "file1_path = 'Anuvaad.as-en.en-filtered.en'\n",
        "file2_path = 'pmindia.as-en.en-filtered.en.subword.desubword.en'\n",
        "merged_file_path = 'assamese_final1.txt'\n",
        "\n",
        "# Read the content of file1\n",
        "with open(file1_path, 'r') as file1:\n",
        "    file1_content = file1.read()\n",
        "\n",
        "# Read the content of file2\n",
        "with open(file2_path, 'r') as file2:\n",
        "    file2_content = file2.read()\n",
        "\n",
        "# Concatenate the contents of file1 and file2\n",
        "merged_content = file1_content + file2_content\n",
        "\n",
        "# Write the merged content to the merged file\n",
        "with open(merged_file_path, 'w') as merged_file:\n",
        "    merged_file.write(merged_content)"
      ]
    },
    {
      "cell_type": "code",
      "execution_count": null,
      "metadata": {
        "colab": {
          "base_uri": "https://localhost:8080/",
          "height": 17
        },
        "id": "Qj2ijSXTzsiX",
        "outputId": "36ad08c3-c205-4ac4-98e8-a4532ed0eaa1"
      },
      "outputs": [
        {
          "data": {
            "application/javascript": "\n    async function download(id, filename, size) {\n      if (!google.colab.kernel.accessAllowed) {\n        return;\n      }\n      const div = document.createElement('div');\n      const label = document.createElement('label');\n      label.textContent = `Downloading \"${filename}\": `;\n      div.appendChild(label);\n      const progress = document.createElement('progress');\n      progress.max = size;\n      div.appendChild(progress);\n      document.body.appendChild(div);\n\n      const buffers = [];\n      let downloaded = 0;\n\n      const channel = await google.colab.kernel.comms.open(id);\n      // Send a message to notify the kernel that we're ready.\n      channel.send({})\n\n      for await (const message of channel.messages) {\n        // Send a message to notify the kernel that we're ready.\n        channel.send({})\n        if (message.buffers) {\n          for (const buffer of message.buffers) {\n            buffers.push(buffer);\n            downloaded += buffer.byteLength;\n            progress.value = downloaded;\n          }\n        }\n      }\n      const blob = new Blob(buffers, {type: 'application/binary'});\n      const a = document.createElement('a');\n      a.href = window.URL.createObjectURL(blob);\n      a.download = filename;\n      div.appendChild(a);\n      a.click();\n      div.remove();\n    }\n  ",
            "text/plain": [
              "<IPython.core.display.Javascript object>"
            ]
          },
          "metadata": {},
          "output_type": "display_data"
        },
        {
          "data": {
            "application/javascript": "download(\"download_a3562880-d6bd-454d-a7f9-23d1b321a257\", \"Back_translation.zip\", 4241778)",
            "text/plain": [
              "<IPython.core.display.Javascript object>"
            ]
          },
          "metadata": {},
          "output_type": "display_data"
        }
      ],
      "source": [
        "from google.colab import files\n",
        "import zipfile\n",
        "\n",
        "# List of file paths to be included in the dataset\n",
        "file_paths = ['assamese_final1.txt', 'english_final1.txt']\n",
        "\n",
        "# Create a ZIP archive\n",
        "with zipfile.ZipFile('Back_translation1.zip', 'w') as zipf:\n",
        "    for file_path in file_paths:\n",
        "        zipf.write(file_path)\n",
        "\n",
        "# Download the ZIP archive\n",
        "files.download('Back_translation1.zip')"
      ]
    }
  ],
  "metadata": {
    "accelerator": "GPU",
    "colab": {
      "provenance": []
    },
    "kernelspec": {
      "display_name": "Python 3",
      "name": "python3"
    },
    "language_info": {
      "name": "python"
    }
  },
  "nbformat": 4,
  "nbformat_minor": 0
}
