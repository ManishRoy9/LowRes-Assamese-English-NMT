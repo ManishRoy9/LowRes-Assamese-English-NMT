{
  "cells": [
    {
      "cell_type": "code",
      "execution_count": null,
      "metadata": {
        "id": "Qq2w18KQLWnG"
      },
      "outputs": [],
      "source": [
        "!mkdir IBT\n",
        "%cd IBT\n",
        "!git clone https://github.com/ManishRoy9/MT-Preperation.git"
      ]
    },
    {
      "cell_type": "code",
      "execution_count": null,
      "metadata": {
        "id": "aVoM5w0wRxBD"
      },
      "outputs": [],
      "source": [
        "!pip3 install -r MT-Preparation/requirements.txt"
      ]
    },
    {
      "cell_type": "code",
      "execution_count": null,
      "metadata": {
        "id": "W32Y-cDZR0bX"
      },
      "outputs": [],
      "source": [
        "from google.colab import files\n",
        "\n",
        "# Upload files\n",
        "uploaded = files.upload()"
      ]
    },
    {
      "cell_type": "code",
      "execution_count": null,
      "metadata": {
        "id": "7d9f31WcBU9K"
      },
      "outputs": [],
      "source": [
        "!ls"
      ]
    },
    {
      "cell_type": "code",
      "execution_count": null,
      "metadata": {
        "id": "s5s9OEdcR7Y-"
      },
      "outputs": [],
      "source": [
        "# !python3 MT-Preparation/filter.py GNOME.as-en.en GNOME.as-en.as en as"
      ]
    },
    {
      "cell_type": "code",
      "execution_count": null,
      "metadata": {
        "colab": {
          "base_uri": "https://localhost:8080/"
        },
        "id": "Th5oxMnoBHXi",
        "outputId": "b19fd83a-81e9-4476-f65d-0e893a9e6f84"
      },
      "outputs": [
        {
          "name": "stdout",
          "output_type": "stream",
          "text": [
            "Dataframe shape (rows, columns): (47177, 2)\n",
            "--- Rows with Empty Cells Deleted\t--> Rows: 47174\n",
            "--- Duplicates Deleted\t\t\t--> Rows: 47173\n",
            "--- Source-Copied Rows Deleted\t\t--> Rows: 47152\n",
            "--- Too Long Source/Target Deleted\t--> Rows: 45517\n",
            "--- HTML Removed\t\t\t--> Rows: 45517\n",
            "--- Rows will remain in true-cased\t--> Rows: 45517\n",
            "--- Rows with Empty Cells Deleted\t--> Rows: 45517\n",
            "--- Rows Shuffled\t\t\t--> Rows: 45517\n",
            "--- Source Saved: Anuvaad.as-en.as-filtered.as\n",
            "--- Target Saved: Anuvaad.as-en.en-filtered.en\n"
          ]
        }
      ],
      "source": [
        "!python3 MT-Preparation/filter.py english_final.txt assamese_final.txt en as"
      ]
    },
    {
      "cell_type": "code",
      "execution_count": null,
      "metadata": {
        "id": "NhepqRuwSUyX"
      },
      "outputs": [],
      "source": [
        "!python MT-Preparation/1-train_bpe.py  english_final.txt-filtered.en assamese_final.txt-filtered.as"
      ]
    },
    {
      "cell_type": "code",
      "execution_count": null,
      "metadata": {
        "id": "pjNJkSrjSgrn"
      },
      "outputs": [],
      "source": [
        "!ls"
      ]
    },
    {
      "cell_type": "code",
      "execution_count": null,
      "metadata": {
        "id": "rzmw4zggSlpk"
      },
      "outputs": [],
      "source": [
        "!python3 MT-Preparation/2-subword.py source.model target.model english_final.txt-filtered.en assamese_final.txt-filtered.as"
      ]
    },
    {
      "cell_type": "code",
      "execution_count": null,
      "metadata": {
        "id": "n7v9NtGaBwVg"
      },
      "outputs": [],
      "source": [
        "# !python3 MT-Preparation/2-subword.py source.model target.model  GNOME.as-en.en-filtered.en GNOME.as-en.as-filtered.as"
      ]
    },
    {
      "cell_type": "code",
      "execution_count": null,
      "metadata": {
        "id": "gM54DdVjSqzL"
      },
      "outputs": [],
      "source": [
        "!python MT-Preparation/train_dev_test_split.py 5500 5500 english_final.txt-filtered.en.subword assamese_final.txt-filtered.as.subword"
      ]
    },
    {
      "cell_type": "code",
      "execution_count": null,
      "metadata": {
        "id": "IUvC85RvSy2Z"
      },
      "outputs": [],
      "source": [
        "!wc -l *.subword.*"
      ]
    },
    {
      "cell_type": "code",
      "execution_count": null,
      "metadata": {
        "colab": {
          "base_uri": "https://localhost:8080/"
        },
        "id": "WXrEVAgPS4nV",
        "outputId": "62058bd0-35a1-4f4a-b923-f2a461cd1f48"
      },
      "outputs": [
        {
          "name": "stdout",
          "output_type": "stream",
          "text": [
            "Mounted at /content/drive\n"
          ]
        }
      ],
      "source": [
        "from google.colab import drive\n",
        "drive.mount ('/content/drive')"
      ]
    },
    {
      "cell_type": "code",
      "execution_count": null,
      "metadata": {
        "colab": {
          "base_uri": "https://localhost:8080/"
        },
        "id": "WrqspQpdS4qV",
        "outputId": "5af93906-307f-4721-c14b-115b24906c7b"
      },
      "outputs": [
        {
          "name": "stdout",
          "output_type": "stream",
          "text": [
            "cp: cannot stat '/content/en/': No such file or directory\n"
          ]
        }
      ],
      "source": [
        "!cp -R /content/en/ /content/drive/MyDrive/"
      ]
    },
    {
      "cell_type": "code",
      "execution_count": null,
      "metadata": {
        "id": "NJGOeJmtAoru"
      },
      "outputs": [],
      "source": [
        "%cd /content/drive/MyDrive/en/\n",
        "!ls"
      ]
    },
    {
      "cell_type": "code",
      "execution_count": null,
      "metadata": {
        "id": "eixc-RjLS8SK"
      },
      "outputs": [],
      "source": [
        "!pip3 install OpenNMT-py"
      ]
    },
    {
      "cell_type": "code",
      "execution_count": null,
      "metadata": {
        "id": "529Zm2F2TeLA"
      },
      "outputs": [],
      "source": [
        "# Create the YAML configuration file\n",
        "# On a regular machine, you can create it manually or with nano\n",
        "# Note here we are using some smaller values because the dataset is small\n",
        "# For larger datasets, consider increasing: train_steps, valid_steps, warmup_steps, save_checkpoint_steps, keep_checkpoint\n",
        "\n",
        "config = '''# config.yaml\n",
        "\n",
        "\n",
        "## Where the samples will be written\n",
        "save_data: run\n",
        "\n",
        "# Training files\n",
        "data:\n",
        "    corpus_1:\n",
        "        path_src:   english_final.txt-filtered.en.subword.train\n",
        "        path_tgt:   assamese_final.txt-filtered.en.subword.train\n",
        "        transforms: [filtertoolong]\n",
        "    valid:\n",
        "        path_src: english_final.txt-filtered.en.subword.dev\n",
        "        path_tgt: assamese_final.txt-filtered.en.subword.dev\n",
        "        transforms: [filtertoolong]\n",
        "\n",
        "# Vocabulary files, generated by onmt_build_vocab\n",
        "src_vocab: run/source.vocab\n",
        "tgt_vocab: run/target.vocab\n",
        "\n",
        "# Vocabulary size - should be the same as in sentence piece\n",
        "src_vocab_size: 50000\n",
        "tgt_vocab_size: 50000\n",
        "\n",
        "# Filter out source/target longer than n if [filtertoolong] enabled\n",
        "src_seq_length: 150\n",
        "src_seq_length: 150\n",
        "\n",
        "# Tokenization options\n",
        "src_subword_model: source.model\n",
        "tgt_subword_model: target.model\n",
        "\n",
        "# Where to save the log file and the output models/checkpoints\n",
        "log_file: train.log\n",
        "save_model: models/model.as_en\n",
        "\n",
        "# Stop training if it does not imporve after n validations\n",
        "early_stopping: 4\n",
        "\n",
        "# Default: 1000 - Save a model checkpoint for each n\n",
        "save_checkpoint_steps: 1000\n",
        "\n",
        "# To save space, limit checkpoints to last n\n",
        "# keep_checkpoint: 3\n",
        "\n",
        "seed: 3435\n",
        "\n",
        "# Default: 100000 - Train the model to max n steps\n",
        "# Increase to 200000 or more for large datasets\n",
        "# For fine-tuning, add up the required steps to the original steps\n",
        "train_steps: 10000\n",
        "\n",
        "# Default: 15000 - Run validation after n steps\n",
        "valid_steps: 500\n",
        "\n",
        "# Default: 4000 - for large datasets, try up to 8000\n",
        "warmup_steps: 1000\n",
        "report_every: 200\n",
        "\n",
        "# Number of GPUs, and IDs of GPUs\n",
        "world_size: 1\n",
        "gpu_ranks: [0]\n",
        "\n",
        "# Batching\n",
        "bucket_size: 262144\n",
        "num_workers: 0  # Default: 2, set to 0 when RAM out of memory\n",
        "batch_type: \"tokens\"\n",
        "batch_size: 4096   # Tokens per batch, change when CUDA out of memory\n",
        "valid_batch_size: 2048\n",
        "max_generator_batches: 2\n",
        "accum_count: [4]\n",
        "accum_steps: [0]\n",
        "\n",
        "# Optimization\n",
        "model_dtype: \"fp16\"\n",
        "optim: \"adam\"\n",
        "learning_rate: 1\n",
        "# warmup_steps: 8000\n",
        "decay_method: \"noam\"\n",
        "adam_beta2: 0.998\n",
        "max_grad_norm: 0\n",
        "label_smoothing: 0.1\n",
        "param_init: 0\n",
        "param_init_glorot: true\n",
        "normalization: \"tokens\"\n",
        "\n",
        "# Model\n",
        "encoder_type: transformer\n",
        "decoder_type: transformer\n",
        "position_encoding: true\n",
        "enc_layers: 6\n",
        "dec_layers: 6\n",
        "heads: 8\n",
        "hidden_size: 512\n",
        "word_vec_size: 512\n",
        "transformer_ff: 2048\n",
        "dropout_steps: [0]\n",
        "dropout: [0.1]\n",
        "attention_dropout: [0.1]\n",
        "'''\n",
        "\n",
        "with open(\"config.yaml\", \"w+\") as config_yaml:\n",
        "  config_yaml.write(config)"
      ]
    },
    {
      "cell_type": "code",
      "execution_count": null,
      "metadata": {
        "id": "-WdL65-bTj7n"
      },
      "outputs": [],
      "source": [
        "!cat config.yaml"
      ]
    },
    {
      "cell_type": "code",
      "execution_count": null,
      "metadata": {
        "colab": {
          "base_uri": "https://localhost:8080/"
        },
        "id": "tf_FUdJETn17",
        "outputId": "02aa7e21-bba6-4be0-bed7-e42539d85ca9"
      },
      "outputs": [
        {
          "name": "stdout",
          "output_type": "stream",
          "text": [
            "2\n"
          ]
        }
      ],
      "source": [
        "!nproc --all"
      ]
    },
    {
      "cell_type": "code",
      "execution_count": null,
      "metadata": {
        "id": "oUy54BCITsqw"
      },
      "outputs": [],
      "source": [
        "!onmt_build_vocab -config config.yaml -n_sample -1 -num_threads 2"
      ]
    },
    {
      "cell_type": "code",
      "execution_count": null,
      "metadata": {
        "id": "GHgCzgXATuV1"
      },
      "outputs": [],
      "source": [
        "!nvidia-smi -L"
      ]
    },
    {
      "cell_type": "code",
      "execution_count": null,
      "metadata": {
        "id": "tbi0pmXn1i5g"
      },
      "outputs": [],
      "source": [
        "!ls"
      ]
    },
    {
      "cell_type": "code",
      "execution_count": null,
      "metadata": {
        "id": "A_xaNnm2T2lX"
      },
      "outputs": [],
      "source": [
        "!rm -rf drive/MyDrive/en/models/"
      ]
    },
    {
      "cell_type": "code",
      "execution_count": null,
      "metadata": {
        "id": "sA3lmes4UTMs"
      },
      "outputs": [],
      "source": [
        "!onmt_train -config config.yaml"
      ]
    },
    {
      "cell_type": "code",
      "execution_count": null,
      "metadata": {
        "id": "5Dfe-FknmFMt"
      },
      "outputs": [],
      "source": [
        "!onmt_translate -model models/model.as_en_step_5000.pt -src  english_final.txt-filtered.en.subword.test -output  assamese.as.translated -gpu 0 -min_length 1"
      ]
    },
    {
      "cell_type": "code",
      "execution_count": null,
      "metadata": {
        "id": "P32sXtxnmL1N"
      },
      "outputs": [],
      "source": [
        "!pip3 install --upgrade -q sentencepiece"
      ]
    },
    {
      "cell_type": "code",
      "execution_count": null,
      "metadata": {
        "id": "DG1BKzyxmOPr"
      },
      "outputs": [],
      "source": [
        "!python3 MT-Preparation/3-desubword.py target.model  assamese_final.txt-filtered.en.subword.test"
      ]
    },
    {
      "cell_type": "code",
      "execution_count": null,
      "metadata": {
        "id": "2reW_vkZmO4z"
      },
      "outputs": [],
      "source": [
        "!python3 MT-Preparation/3-desubword.py target.model assamese.as.translated"
      ]
    },
    {
      "cell_type": "code",
      "execution_count": null,
      "metadata": {
        "colab": {
          "base_uri": "https://localhost:8080/"
        },
        "id": "skMtyBPcmQs1",
        "outputId": "50e252c8-e324-4bdf-fd0d-7ad61a782542"
      },
      "outputs": [
        {
          "name": "stdout",
          "output_type": "stream",
          "text": [
            "--2023-07-10 05:52:57--  https://raw.githubusercontent.com/ymoslem/MT-Evaluation/main/BLEU/compute-bleu.py\n",
            "Resolving raw.githubusercontent.com (raw.githubusercontent.com)... 185.199.108.133, 185.199.109.133, 185.199.110.133, ...\n",
            "Connecting to raw.githubusercontent.com (raw.githubusercontent.com)|185.199.108.133|:443... connected.\n",
            "HTTP request sent, awaiting response... 200 OK\n",
            "Length: 957 [text/plain]\n",
            "Saving to: ‘compute-bleu.py’\n",
            "\n",
            "compute-bleu.py     100%[===================>]     957  --.-KB/s    in 0s      \n",
            "\n",
            "2023-07-10 05:52:57 (27.3 MB/s) - ‘compute-bleu.py’ saved [957/957]\n",
            "\n"
          ]
        }
      ],
      "source": [
        "!wget https://raw.githubusercontent.com/ymoslem/MT-Evaluation/main/BLEU/compute-bleu.py"
      ]
    },
    {
      "cell_type": "code",
      "execution_count": null,
      "metadata": {
        "colab": {
          "base_uri": "https://localhost:8080/"
        },
        "id": "pLkpwmB2mST1",
        "outputId": "5e1e86cd-782f-431e-8aef-37f61de4eb98"
      },
      "outputs": [
        {
          "name": "stdout",
          "output_type": "stream",
          "text": [
            "Requirement already satisfied: sacrebleu in /usr/local/lib/python3.10/dist-packages (2.3.1)\n",
            "Requirement already satisfied: portalocker in /usr/local/lib/python3.10/dist-packages (from sacrebleu) (2.7.0)\n",
            "Requirement already satisfied: regex in /usr/local/lib/python3.10/dist-packages (from sacrebleu) (2022.10.31)\n",
            "Requirement already satisfied: tabulate>=0.8.9 in /usr/local/lib/python3.10/dist-packages (from sacrebleu) (0.8.10)\n",
            "Requirement already satisfied: numpy>=1.17 in /usr/local/lib/python3.10/dist-packages (from sacrebleu) (1.22.4)\n",
            "Requirement already satisfied: colorama in /usr/local/lib/python3.10/dist-packages (from sacrebleu) (0.4.6)\n",
            "Requirement already satisfied: lxml in /usr/local/lib/python3.10/dist-packages (from sacrebleu) (4.9.2)\n"
          ]
        }
      ],
      "source": [
        "!pip3 install sacrebleu"
      ]
    },
    {
      "cell_type": "code",
      "execution_count": null,
      "metadata": {
        "id": "aGPMlmKJmUUV"
      },
      "outputs": [],
      "source": [
        "!python3 compute-bleu.py assamese_final.txt-filtered.en.subword.test.desubword assamese.as.translated.desubword"
      ]
    },
    {
      "cell_type": "markdown",
      "metadata": {
        "id": "uye-MO8ttM1F"
      },
      "source": [
        "OPUS"
      ]
    },
    {
      "cell_type": "code",
      "execution_count": null,
      "metadata": {
        "id": "EMMGeBQHtOPv"
      },
      "outputs": [],
      "source": [
        "from google.colab import files\n",
        "uploaded = files.upload()"
      ]
    },
    {
      "cell_type": "code",
      "execution_count": null,
      "metadata": {
        "id": "kUS0nHtitRI3"
      },
      "outputs": [],
      "source": [
        "!python3 MT-Preparation/filter1.py pmindia.as-en.en en"
      ]
    },
    {
      "cell_type": "code",
      "execution_count": null,
      "metadata": {
        "id": "O_X0t5z0tTub"
      },
      "outputs": [],
      "source": [
        "!python MT-Preparation/1-train_bpe1.py pmindia.as-en.en-filtered.en en"
      ]
    },
    {
      "cell_type": "code",
      "execution_count": null,
      "metadata": {
        "id": "JSoEMMN6tXyD"
      },
      "outputs": [],
      "source": [
        "!python3 MT-Preparation/2-subword1.py en.model pmindia.as-en.en-filtered.en"
      ]
    },
    {
      "cell_type": "code",
      "execution_count": null,
      "metadata": {
        "colab": {
          "background_save": true
        },
        "id": "kJToSYmgtczN"
      },
      "outputs": [],
      "source": [
        "!onmt_translate -model models/model.as_en_step_5000.pt -src  pmindia.as-en.en-filtered.en.subword -output  pmindia.as.translated -gpu 0 -min_length 1"
      ]
    },
    {
      "cell_type": "code",
      "execution_count": null,
      "metadata": {
        "id": "qCzKhjJOzed1"
      },
      "outputs": [],
      "source": [
        "!python3 MT-Preparation/3-desubword.py target.model pmindia.as.translated"
      ]
    },
    {
      "cell_type": "code",
      "execution_count": null,
      "metadata": {
        "id": "59bPaTpUzljI"
      },
      "outputs": [],
      "source": [
        "!python3 MT-Preparation/3-desubword.py as.model pmindia.as-en.en-filtered.en.subword"
      ]
    },
    {
      "cell_type": "code",
      "execution_count": null,
      "metadata": {
        "id": "CdJgiXsxzuUa"
      },
      "outputs": [],
      "source": [
        "!head -n 10 pmindia.as.translated.desubword"
      ]
    },
    {
      "cell_type": "code",
      "execution_count": null,
      "metadata": {
        "id": "A1-M7CiYbYSa"
      },
      "outputs": [],
      "source": [
        "!head -n 10 pmindia.as-en.as-filtered.as.subword.desubword"
      ]
    },
    {
      "cell_type": "code",
      "execution_count": null,
      "metadata": {
        "id": "yOr29F-LlzZR"
      },
      "outputs": [],
      "source": [
        "pip install sentence-transformers"
      ]
    },
    {
      "cell_type": "code",
      "execution_count": null,
      "metadata": {
        "id": "javUR057jUh6"
      },
      "outputs": [],
      "source": [
        "from sentence_transformers import SentenceTransformer\n",
        "from sklearn.metrics.pairwise import cosine_similarity\n",
        "\n",
        "def filter_low_quality_backtranslations(source_texts, back_translations, threshold):\n",
        "    model = SentenceTransformer('xlm-roberta-base')\n",
        "\n",
        "    embeddings_source = model.encode(source_texts)\n",
        "    embeddings_back = model.encode(back_translations)\n",
        "\n",
        "    filtered_translations = [\n",
        "        back_translations[i]\n",
        "        for i in range(len(embeddings_source))\n",
        "        if cosine_similarity([embeddings_source[i]], [embeddings_back[i]]) >= threshold\n",
        "    ]\n",
        "\n",
        "    return filtered_translations\n",
        "\n",
        "with open('pmindia.as-en.en-filtered.en.subword.desubword', 'r', encoding='utf-8') as file:\n",
        "    source_texts = file.read().splitlines()\n",
        "\n",
        "with open('pmindia.as.translated.desubword', 'r', encoding='utf-8') as file:\n",
        "    back_translations = file.read().splitlines()\n",
        "\n",
        "threshold = 0.9 # Set your desired threshold\n",
        "\n",
        "filtered_translations = filter_low_quality_backtranslations(source_texts, back_translations, threshold)\n",
        "print(filtered_translations)\n"
      ]
    },
    {
      "cell_type": "code",
      "execution_count": null,
      "metadata": {
        "id": "dtk_Y4oIs85F"
      },
      "outputs": [],
      "source": [
        "!python3 MT-Preparation/add_tag.py pmindia.as.translated.desubword bt"
      ]
    },
    {
      "cell_type": "code",
      "execution_count": null,
      "metadata": {
        "id": "kuaOS4QeuCgm"
      },
      "outputs": [],
      "source": [
        "!python3 MT-Preparation/add_tag.py pmindia.as-en.en-filtered.en.subword.desubword bt"
      ]
    },
    {
      "cell_type": "code",
      "execution_count": null,
      "metadata": {
        "id": "qfnksWpUtqDZ"
      },
      "outputs": [],
      "source": [
        "!head -n 10 pmindia.en.translated.desubword.en"
      ]
    },
    {
      "cell_type": "code",
      "execution_count": null,
      "metadata": {
        "id": "hNRpbQFlzocw"
      },
      "outputs": [],
      "source": [
        "!head -n 10 pmindia.as-en.as-filtered.as.subword.desubword.en"
      ]
    },
    {
      "cell_type": "code",
      "execution_count": null,
      "metadata": {
        "id": "9ky_g08hTcu9"
      },
      "outputs": [],
      "source": [
        "# Specify the file paths\n",
        "file1_path = 'Anuvaad.as-en.as-filtered.as'\n",
        "file2_path = 'pmindia.as.translated.desubword.en'\n",
        "merged_file_path = 'filtered_source_texts.txt'\n",
        "\n",
        "# Read the content of file1\n",
        "with open(file1_path, 'r') as file1:\n",
        "    file1_content = file1.read()\n",
        "\n",
        "# Read the content of file2\n",
        "with open(file2_path, 'r') as file2:\n",
        "    file2_content = file2.read()\n",
        "\n",
        "# Concatenate the contents of file1 and file2\n",
        "merged_content = file1_content + file2_content\n",
        "\n",
        "# Write the merged content to the merged file\n",
        "with open(merged_file_path, 'w') as merged_file:\n",
        "    merged_file.write(merged_content)\n"
      ]
    },
    {
      "cell_type": "code",
      "execution_count": null,
      "metadata": {
        "id": "Ux-bqRU_VMlH"
      },
      "outputs": [],
      "source": [
        "# Specify the file paths\n",
        "file1_path = 'Anuvaad.as-en.en-filtered.en'\n",
        "file2_path = 'pmindia.as-en.en-filtered.en.subword.desubword.en'\n",
        "merged_file_path = 'filtered_translations.txt'\n",
        "\n",
        "# Read the content of file1\n",
        "with open(file1_path, 'r') as file1:\n",
        "    file1_content = file1.read()\n",
        "\n",
        "# Read the content of file2\n",
        "with open(file2_path, 'r') as file2:\n",
        "    file2_content = file2.read()\n",
        "\n",
        "# Concatenate the contents of file1 and file2\n",
        "merged_content = file1_content + file2_content\n",
        "\n",
        "# Write the merged content to the merged file\n",
        "with open(merged_file_path, 'w') as merged_file:\n",
        "    merged_file.write(merged_content)"
      ]
    },
    {
      "cell_type": "code",
      "execution_count": null,
      "metadata": {
        "colab": {
          "base_uri": "https://localhost:8080/",
          "height": 17
        },
        "id": "Qj2ijSXTzsiX",
        "outputId": "36ad08c3-c205-4ac4-98e8-a4532ed0eaa1"
      },
      "outputs": [
        {
          "data": {
            "application/javascript": "\n    async function download(id, filename, size) {\n      if (!google.colab.kernel.accessAllowed) {\n        return;\n      }\n      const div = document.createElement('div');\n      const label = document.createElement('label');\n      label.textContent = `Downloading \"${filename}\": `;\n      div.appendChild(label);\n      const progress = document.createElement('progress');\n      progress.max = size;\n      div.appendChild(progress);\n      document.body.appendChild(div);\n\n      const buffers = [];\n      let downloaded = 0;\n\n      const channel = await google.colab.kernel.comms.open(id);\n      // Send a message to notify the kernel that we're ready.\n      channel.send({})\n\n      for await (const message of channel.messages) {\n        // Send a message to notify the kernel that we're ready.\n        channel.send({})\n        if (message.buffers) {\n          for (const buffer of message.buffers) {\n            buffers.push(buffer);\n            downloaded += buffer.byteLength;\n            progress.value = downloaded;\n          }\n        }\n      }\n      const blob = new Blob(buffers, {type: 'application/binary'});\n      const a = document.createElement('a');\n      a.href = window.URL.createObjectURL(blob);\n      a.download = filename;\n      div.appendChild(a);\n      a.click();\n      div.remove();\n    }\n  ",
            "text/plain": [
              "<IPython.core.display.Javascript object>"
            ]
          },
          "metadata": {},
          "output_type": "display_data"
        },
        {
          "data": {
            "application/javascript": "download(\"download_a3562880-d6bd-454d-a7f9-23d1b321a257\", \"Back_translation.zip\", 4241778)",
            "text/plain": [
              "<IPython.core.display.Javascript object>"
            ]
          },
          "metadata": {},
          "output_type": "display_data"
        }
      ],
      "source": [
        "from google.colab import files\n",
        "import zipfile\n",
        "\n",
        "# List of file paths to be included in the dataset\n",
        "file_paths = ['filtered_source_texts.txt', 'filtered_translations.txt']\n",
        "\n",
        "# Create a ZIP archive\n",
        "with zipfile.ZipFile('IBT.zip', 'w') as zipf:\n",
        "    for file_path in file_paths:\n",
        "        zipf.write(file_path)\n",
        "\n",
        "# Download the ZIP archive\n",
        "files.download('IBT.zip')"
      ]
    }
  ],
  "metadata": {
    "accelerator": "GPU",
    "colab": {
      "provenance": []
    },
    "kernelspec": {
      "display_name": "Python 3",
      "name": "python3"
    },
    "language_info": {
      "name": "python"
    }
  },
  "nbformat": 4,
  "nbformat_minor": 0
}