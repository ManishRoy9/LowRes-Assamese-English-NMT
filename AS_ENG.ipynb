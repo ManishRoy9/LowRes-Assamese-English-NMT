{
  "cells": [
    {
      "cell_type": "code",
      "execution_count": null,
      "metadata": {
        "colab": {
          "base_uri": "https://localhost:8080/"
        },
        "id": "Qq2w18KQLWnG",
        "outputId": "e2a58f72-ed8c-432f-c859-451f989888fd"
      },
      "outputs": [
        {
          "name": "stdout",
          "output_type": "stream",
          "text": [
            "/content/en\n",
            "Cloning into 'MT-Preparation'...\n",
            "remote: Enumerating objects: 239, done.\u001b[K\n",
            "remote: Counting objects: 100% (239/239), done.\u001b[K\n",
            "remote: Compressing objects: 100% (133/133), done.\u001b[K\n",
            "remote: Total 239 (delta 119), reused 186 (delta 94), pack-reused 0\u001b[K\n",
            "Receiving objects: 100% (239/239), 61.56 KiB | 2.46 MiB/s, done.\n",
            "Resolving deltas: 100% (119/119), done.\n"
          ]
        }
      ],
      "source": [
        "!mkdir en\n",
        "%cd en\n",
        "!git clone https://github.com/ManishRoy9/MT-Preperation.git"
      ]
    },
    {
      "cell_type": "code",
      "execution_count": null,
      "metadata": {
        "colab": {
          "base_uri": "https://localhost:8080/"
        },
        "id": "aVoM5w0wRxBD",
        "outputId": "1162accd-c067-4268-ba92-db781402e91e"
      },
      "outputs": [
        {
          "output_type": "stream",
          "name": "stdout",
          "text": [
            "Requirement already satisfied: numpy in /usr/local/lib/python3.10/dist-packages (from -r MT-Preparation/requirements.txt (line 1)) (1.22.4)\n",
            "Requirement already satisfied: pandas in /usr/local/lib/python3.10/dist-packages (from -r MT-Preparation/requirements.txt (line 2)) (1.5.3)\n",
            "Collecting sentencepiece (from -r MT-Preparation/requirements.txt (line 3))\n",
            "  Downloading sentencepiece-0.1.99-cp310-cp310-manylinux_2_17_x86_64.manylinux2014_x86_64.whl (1.3 MB)\n",
            "\u001b[2K     \u001b[90m━━━━━━━━━━━━━━━━━━━━━━━━━━━━━━━━━━━━━━━━\u001b[0m \u001b[32m1.3/1.3 MB\u001b[0m \u001b[31m60.6 MB/s\u001b[0m eta \u001b[36m0:00:00\u001b[0m\n",
            "\u001b[?25hRequirement already satisfied: python-dateutil>=2.8.1 in /usr/local/lib/python3.10/dist-packages (from pandas->-r MT-Preparation/requirements.txt (line 2)) (2.8.2)\n",
            "Requirement already satisfied: pytz>=2020.1 in /usr/local/lib/python3.10/dist-packages (from pandas->-r MT-Preparation/requirements.txt (line 2)) (2022.7.1)\n",
            "Requirement already satisfied: six>=1.5 in /usr/local/lib/python3.10/dist-packages (from python-dateutil>=2.8.1->pandas->-r MT-Preparation/requirements.txt (line 2)) (1.16.0)\n",
            "Installing collected packages: sentencepiece\n",
            "Successfully installed sentencepiece-0.1.99\n"
          ]
        }
      ],
      "source": [
        "!pip3 install -r MT-Preparation/requirements.txt"
      ]
    },
    {
      "cell_type": "code",
      "execution_count": null,
      "metadata": {
        "colab": {
          "base_uri": "https://localhost:8080/"
        },
        "id": "W32Y-cDZR0bX",
        "outputId": "d99f4304-c37b-4ac4-c315-ab4ef87ba9dc"
      },
      "outputs": [
        {
          "name": "stdout",
          "output_type": "stream",
          "text": [
            "--2023-07-10 05:05:24--  https://object.pouta.csc.fi/OPUS-Anuvaad/v1/moses/as-en.txt.zip\n",
            "Resolving object.pouta.csc.fi (object.pouta.csc.fi)... 86.50.254.18, 86.50.254.19\n",
            "Connecting to object.pouta.csc.fi (object.pouta.csc.fi)|86.50.254.18|:443... connected.\n",
            "HTTP request sent, awaiting response... 200 OK\n",
            "Length: 5826386 (5.6M) [application/zip]\n",
            "Saving to: ‘as-en.txt.zip’\n",
            "\n",
            "as-en.txt.zip       100%[===================>]   5.56M  5.08MB/s    in 1.1s    \n",
            "\n",
            "2023-07-10 05:05:26 (5.08 MB/s) - ‘as-en.txt.zip’ saved [5826386/5826386]\n",
            "\n",
            "Archive:  as-en.txt.zip\n",
            "  inflating: README                  \n",
            "  inflating: LICENSE                 \n",
            "  inflating: Anuvaad.as-en.as        \n",
            "  inflating: Anuvaad.as-en.en        \n",
            "  inflating: Anuvaad.as-en.xml       \n"
          ]
        }
      ],
      "source": [
        "!wget https://object.pouta.csc.fi/OPUS-Anuvaad/v1/moses/as-en.txt.zip\n",
        "!unzip as-en.txt.zip"
      ]
    },
    {
      "cell_type": "code",
      "execution_count": null,
      "metadata": {
        "colab": {
          "base_uri": "https://localhost:8080/"
        },
        "id": "7d9f31WcBU9K",
        "outputId": "0e4d5d18-1c0a-4e94-e21b-102b6d87a2f4"
      },
      "outputs": [
        {
          "name": "stdout",
          "output_type": "stream",
          "text": [
            "Anuvaad.as-en.as  Anuvaad.as-en.xml  LICENSE\t     README\n",
            "Anuvaad.as-en.en  as-en.txt.zip      MT-Preparation\n"
          ]
        }
      ],
      "source": [
        "!ls"
      ]
    },
    {
      "cell_type": "code",
      "execution_count": null,
      "metadata": {
        "id": "s5s9OEdcR7Y-"
      },
      "outputs": [],
      "source": [
        "# !python3 MT-Preparation/filter.py GNOME.as-en.en GNOME.as-en.as en as"
      ]
    },
    {
      "cell_type": "code",
      "execution_count": null,
      "metadata": {
        "colab": {
          "base_uri": "https://localhost:8080/"
        },
        "id": "Th5oxMnoBHXi",
        "outputId": "b19fd83a-81e9-4476-f65d-0e893a9e6f84"
      },
      "outputs": [
        {
          "name": "stdout",
          "output_type": "stream",
          "text": [
            "Dataframe shape (rows, columns): (47177, 2)\n",
            "--- Rows with Empty Cells Deleted\t--> Rows: 47174\n",
            "--- Duplicates Deleted\t\t\t--> Rows: 47173\n",
            "--- Source-Copied Rows Deleted\t\t--> Rows: 47152\n",
            "--- Too Long Source/Target Deleted\t--> Rows: 45517\n",
            "--- HTML Removed\t\t\t--> Rows: 45517\n",
            "--- Rows will remain in true-cased\t--> Rows: 45517\n",
            "--- Rows with Empty Cells Deleted\t--> Rows: 45517\n",
            "--- Rows Shuffled\t\t\t--> Rows: 45517\n",
            "--- Source Saved: Anuvaad.as-en.as-filtered.as\n",
            "--- Target Saved: Anuvaad.as-en.en-filtered.en\n"
          ]
        }
      ],
      "source": [
        "!python3 MT-Preparation/filter.py Anuvaad.as-en.as Anuvaad.as-en.en as en"
      ]
    },
    {
      "cell_type": "code",
      "execution_count": null,
      "metadata": {
        "colab": {
          "base_uri": "https://localhost:8080/"
        },
        "id": "DVpWO2ozSMCY",
        "outputId": "af4868ec-d912-49b7-a708-ce90e2fbde36"
      },
      "outputs": [
        {
          "output_type": "stream",
          "name": "stdout",
          "text": [
            "1-train_bpe1.py  1-train_unigram.py  2-subword.py    add_tag.py\n",
            "1-train_bpe.py\t 2-subword1.py\t     3-desubword.py\n"
          ]
        }
      ],
      "source": [
        "!ls MT-Preparation/subwording/"
      ]
    },
    {
      "cell_type": "code",
      "execution_count": null,
      "metadata": {
        "colab": {
          "base_uri": "https://localhost:8080/"
        },
        "id": "xV2c6NLSSRvI",
        "outputId": "672aa765-e69c-46bc-e45f-c0ae85cb41af"
      },
      "outputs": [
        {
          "name": "stdout",
          "output_type": "stream",
          "text": [
            "filter.py  semantic_filter.py\n"
          ]
        }
      ],
      "source": [
        "!ls MT-Preparation/filtering/"
      ]
    },
    {
      "cell_type": "code",
      "execution_count": null,
      "metadata": {
        "id": "NhepqRuwSUyX"
      },
      "outputs": [],
      "source": [
        "# !python MT-Preparation/1-train_bpe.py  GNOME.as-en.en-filtered.en GNOME.as-en.as-filtered.as"
      ]
    },
    {
      "cell_type": "code",
      "execution_count": null,
      "metadata": {
        "id": "nkzpM2-UBglM"
      },
      "outputs": [],
      "source": [
        "!python MT-Preparation/1-train_bpe.py  Anuvaad.as-en.as-filtered.as Anuvaad.as-en.en-filtered.en"
      ]
    },
    {
      "cell_type": "code",
      "execution_count": null,
      "metadata": {
        "colab": {
          "base_uri": "https://localhost:8080/"
        },
        "id": "pjNJkSrjSgrn",
        "outputId": "c26b92ba-d431-47aa-e6a9-1845ea36d0db"
      },
      "outputs": [
        {
          "name": "stdout",
          "output_type": "stream",
          "text": [
            "Anuvaad.as-en.as\t      Anuvaad.as-en.xml  README        target.vocab\n",
            "Anuvaad.as-en.as-filtered.as  as-en.txt.zip\t source.model\n",
            "Anuvaad.as-en.en\t      LICENSE\t\t source.vocab\n",
            "Anuvaad.as-en.en-filtered.en  MT-Preparation\t target.model\n"
          ]
        }
      ],
      "source": [
        "!ls"
      ]
    },
    {
      "cell_type": "code",
      "execution_count": null,
      "metadata": {
        "colab": {
          "base_uri": "https://localhost:8080/"
        },
        "id": "rzmw4zggSlpk",
        "outputId": "4d87c4e6-e87e-48ae-b350-2744574d1049"
      },
      "outputs": [
        {
          "name": "stdout",
          "output_type": "stream",
          "text": [
            "Source Model: source.model\n",
            "Target Model: target.model\n",
            "Source Dataset: Anuvaad.as-en.as-filtered.as\n",
            "Target Dataset: Anuvaad.as-en.en-filtered.en\n",
            "Done subwording the source file! Output: Anuvaad.as-en.as-filtered.as.subword\n",
            "Done subwording the target file! Output: Anuvaad.as-en.en-filtered.en.subword\n"
          ]
        }
      ],
      "source": [
        "!python3 MT-Preparation/2-subword.py source.model target.model Anuvaad.as-en.as-filtered.as  Anuvaad.as-en.en-filtered.en"
      ]
    },
    {
      "cell_type": "code",
      "execution_count": null,
      "metadata": {
        "id": "n7v9NtGaBwVg"
      },
      "outputs": [],
      "source": [
        "# !python3 MT-Preparation/2-subword.py source.model target.model  GNOME.as-en.en-filtered.en GNOME.as-en.as-filtered.as"
      ]
    },
    {
      "cell_type": "code",
      "execution_count": null,
      "metadata": {
        "colab": {
          "base_uri": "https://localhost:8080/"
        },
        "id": "gM54DdVjSqzL",
        "outputId": "8fb2fad8-ec25-41f3-f864-ea1cb370ddaa"
      },
      "outputs": [
        {
          "name": "stdout",
          "output_type": "stream",
          "text": [
            "Dataframe shape: (45517, 2)\n",
            "--- Empty Cells Deleted --> Rows: 45517\n",
            "--- Wrote Files\n",
            "Done!\n",
            "Output files\n",
            "Anuvaad.as-en.as-filtered.as.subword.train\n",
            "Anuvaad.as-en.en-filtered.en.subword.train\n",
            "Anuvaad.as-en.as-filtered.as.subword.dev\n",
            "Anuvaad.as-en.en-filtered.en.subword.dev\n",
            "Anuvaad.as-en.as-filtered.as.subword.test\n",
            "Anuvaad.as-en.en-filtered.en.subword.test\n"
          ]
        }
      ],
      "source": [
        "!python MT-Preparation/train_dev_test_split.py 4000 4000  Anuvaad.as-en.as-filtered.as.subword Anuvaad.as-en.en-filtered.en.subword"
      ]
    },
    {
      "cell_type": "code",
      "execution_count": null,
      "metadata": {
        "colab": {
          "base_uri": "https://localhost:8080/"
        },
        "id": "IUvC85RvSy2Z",
        "outputId": "e92f1472-b459-43db-b6d5-15df47237424"
      },
      "outputs": [
        {
          "name": "stdout",
          "output_type": "stream",
          "text": [
            "    4000 Anuvaad.as-en.as-filtered.as.subword.dev\n",
            "    4000 Anuvaad.as-en.as-filtered.as.subword.test\n",
            "   37517 Anuvaad.as-en.as-filtered.as.subword.train\n",
            "    4000 Anuvaad.as-en.en-filtered.en.subword.dev\n",
            "    4000 Anuvaad.as-en.en-filtered.en.subword.test\n",
            "   37517 Anuvaad.as-en.en-filtered.en.subword.train\n",
            "   91034 total\n"
          ]
        }
      ],
      "source": [
        "!wc -l *.subword.*"
      ]
    },
    {
      "cell_type": "code",
      "execution_count": null,
      "metadata": {
        "colab": {
          "base_uri": "https://localhost:8080/"
        },
        "id": "WXrEVAgPS4nV",
        "outputId": "62058bd0-35a1-4f4a-b923-f2a461cd1f48"
      },
      "outputs": [
        {
          "output_type": "stream",
          "name": "stdout",
          "text": [
            "Mounted at /content/drive\n"
          ]
        }
      ],
      "source": [
        "from google.colab import drive\n",
        "drive.mount ('/content/drive')"
      ]
    },
    {
      "cell_type": "code",
      "execution_count": null,
      "metadata": {
        "id": "WrqspQpdS4qV",
        "colab": {
          "base_uri": "https://localhost:8080/"
        },
        "outputId": "5af93906-307f-4721-c14b-115b24906c7b"
      },
      "outputs": [
        {
          "output_type": "stream",
          "name": "stdout",
          "text": [
            "cp: cannot stat '/content/en/': No such file or directory\n"
          ]
        }
      ],
      "source": [
        "!cp -R /content/en/ /content/drive/MyDrive/"
      ]
    },
    {
      "cell_type": "code",
      "execution_count": null,
      "metadata": {
        "id": "NJGOeJmtAoru"
      },
      "outputs": [],
      "source": [
        "%cd /content/drive/MyDrive/en/\n",
        "!ls"
      ]
    },
    {
      "cell_type": "code",
      "execution_count": null,
      "metadata": {
        "id": "eixc-RjLS8SK"
      },
      "outputs": [],
      "source": [
        "!pip3 install OpenNMT-py"
      ]
    },
    {
      "cell_type": "code",
      "execution_count": null,
      "metadata": {
        "id": "529Zm2F2TeLA"
      },
      "outputs": [],
      "source": [
        "# Create the YAML configuration file\n",
        "# On a regular machine, you can create it manually or with nano\n",
        "# Note here we are using some smaller values because the dataset is small\n",
        "# For larger datasets, consider increasing: train_steps, valid_steps, warmup_steps, save_checkpoint_steps, keep_checkpoint\n",
        "\n",
        "config = '''# config.yaml\n",
        "\n",
        "\n",
        "## Where the samples will be written\n",
        "save_data: run\n",
        "\n",
        "# Training files\n",
        "data:\n",
        "    corpus_1:\n",
        "        path_src:   Anuvaad.as-en.as-filtered.as.subword.train\n",
        "        path_tgt:   Anuvaad.as-en.en-filtered.en.subword.train\n",
        "        transforms: [filtertoolong]\n",
        "    valid:\n",
        "        path_src: Anuvaad.as-en.as-filtered.as.subword.dev\n",
        "        path_tgt: Anuvaad.as-en.en-filtered.en.subword.dev\n",
        "        transforms: [filtertoolong]\n",
        "\n",
        "# Vocabulary files, generated by onmt_build_vocab\n",
        "src_vocab: run/source.vocab\n",
        "tgt_vocab: run/target.vocab\n",
        "\n",
        "# Vocabulary size - should be the same as in sentence piece\n",
        "src_vocab_size: 45000\n",
        "tgt_vocab_size: 45000\n",
        "\n",
        "# Filter out source/target longer than n if [filtertoolong] enabled\n",
        "src_seq_length: 150\n",
        "src_seq_length: 150\n",
        "\n",
        "# Tokenization options\n",
        "src_subword_model: source.model\n",
        "tgt_subword_model: target.model\n",
        "\n",
        "# Where to save the log file and the output models/checkpoints\n",
        "log_file: train.log\n",
        "save_model: models/model.as_en\n",
        "\n",
        "# Stop training if it does not imporve after n validations\n",
        "early_stopping: 4\n",
        "\n",
        "# Default: 1000 - Save a model checkpoint for each n\n",
        "save_checkpoint_steps: 1000\n",
        "\n",
        "# To save space, limit checkpoints to last n\n",
        "# keep_checkpoint: 3\n",
        "\n",
        "seed: 3435\n",
        "\n",
        "# Default: 100000 - Train the model to max n steps\n",
        "# Increase to 200000 or more for large datasets\n",
        "# For fine-tuning, add up the required steps to the original steps\n",
        "train_steps: 10000\n",
        "\n",
        "# Default: 15000 - Run validation after n steps\n",
        "valid_steps: 500\n",
        "\n",
        "# Default: 4000 - for large datasets, try up to 8000\n",
        "warmup_steps: 1000\n",
        "report_every: 200\n",
        "\n",
        "# Number of GPUs, and IDs of GPUs\n",
        "world_size: 1\n",
        "gpu_ranks: [0]\n",
        "\n",
        "# Batching\n",
        "bucket_size: 262144\n",
        "num_workers: 0  # Default: 2, set to 0 when RAM out of memory\n",
        "batch_type: \"tokens\"\n",
        "batch_size: 4096   # Tokens per batch, change when CUDA out of memory\n",
        "valid_batch_size: 2048\n",
        "max_generator_batches: 2\n",
        "accum_count: [4]\n",
        "accum_steps: [0]\n",
        "\n",
        "# Optimization\n",
        "model_dtype: \"fp16\"\n",
        "optim: \"adam\"\n",
        "learning_rate: 1\n",
        "# warmup_steps: 8000\n",
        "decay_method: \"noam\"\n",
        "adam_beta2: 0.998\n",
        "max_grad_norm: 0\n",
        "label_smoothing: 0.1\n",
        "param_init: 0\n",
        "param_init_glorot: true\n",
        "normalization: \"tokens\"\n",
        "\n",
        "# Model\n",
        "encoder_type: transformer\n",
        "decoder_type: transformer\n",
        "position_encoding: true\n",
        "enc_layers: 6\n",
        "dec_layers: 6\n",
        "heads: 8\n",
        "hidden_size: 512\n",
        "word_vec_size: 512\n",
        "transformer_ff: 2048\n",
        "dropout_steps: [0]\n",
        "dropout: [0.1]\n",
        "attention_dropout: [0.1]\n",
        "'''\n",
        "\n",
        "with open(\"config.yaml\", \"w+\") as config_yaml:\n",
        "  config_yaml.write(config)"
      ]
    },
    {
      "cell_type": "code",
      "execution_count": null,
      "metadata": {
        "id": "-WdL65-bTj7n"
      },
      "outputs": [],
      "source": [
        "!cat config.yaml"
      ]
    },
    {
      "cell_type": "code",
      "execution_count": null,
      "metadata": {
        "colab": {
          "base_uri": "https://localhost:8080/"
        },
        "id": "tf_FUdJETn17",
        "outputId": "02aa7e21-bba6-4be0-bed7-e42539d85ca9"
      },
      "outputs": [
        {
          "name": "stdout",
          "output_type": "stream",
          "text": [
            "2\n"
          ]
        }
      ],
      "source": [
        "!nproc --all"
      ]
    },
    {
      "cell_type": "code",
      "execution_count": null,
      "metadata": {
        "colab": {
          "base_uri": "https://localhost:8080/"
        },
        "id": "oUy54BCITsqw",
        "outputId": "2c89d75d-2101-4dd0-9d59-d2a786ea7649"
      },
      "outputs": [
        {
          "name": "stdout",
          "output_type": "stream",
          "text": [
            "Corpus corpus_1's weight should be given. We default it to 1 for you.\n",
            "[2023-07-10 05:06:59,628 INFO] Counter vocab from -1 samples.\n",
            "[2023-07-10 05:06:59,628 INFO] n_sample=-1: Build vocab on full datasets.\n",
            "[2023-07-10 05:07:02,799 INFO] * Transform statistics for corpus_1(50.00%):\n",
            "\t\t\t* FilterTooLongStats(filtered=7)\n",
            "\n",
            "[2023-07-10 05:07:03,130 INFO] * Transform statistics for corpus_1(50.00%):\n",
            "\t\t\t* FilterTooLongStats(filtered=5)\n",
            "\n",
            "[2023-07-10 05:07:03,399 INFO] Counters src: 43168\n",
            "[2023-07-10 05:07:03,399 INFO] Counters tgt: 33213\n"
          ]
        }
      ],
      "source": [
        "!onmt_build_vocab -config config.yaml -n_sample -1 -num_threads 2"
      ]
    },
    {
      "cell_type": "code",
      "execution_count": null,
      "metadata": {
        "colab": {
          "base_uri": "https://localhost:8080/"
        },
        "id": "GHgCzgXATuV1",
        "outputId": "b4976f33-3fd3-46c2-a804-468e49a56799"
      },
      "outputs": [
        {
          "name": "stdout",
          "output_type": "stream",
          "text": [
            "GPU 0: Tesla T4 (UUID: GPU-f759a81b-412f-ee05-854b-f9dfead228df)\n"
          ]
        }
      ],
      "source": [
        "!nvidia-smi -L"
      ]
    },
    {
      "cell_type": "code",
      "execution_count": null,
      "metadata": {
        "colab": {
          "base_uri": "https://localhost:8080/"
        },
        "id": "tbi0pmXn1i5g",
        "outputId": "722882f7-493b-4d3b-ad26-1e62f6d36391"
      },
      "outputs": [
        {
          "name": "stdout",
          "output_type": "stream",
          "text": [
            "Anuvaad.as-en.as\t\t\t    Anuvaad.as-en.xml\n",
            "Anuvaad.as-en.as-filtered.as\t\t    as-en.txt.zip\n",
            "Anuvaad.as-en.as-filtered.as.subword\t    config.yaml\n",
            "Anuvaad.as-en.as-filtered.as.subword.dev    LICENSE\n",
            "Anuvaad.as-en.as-filtered.as.subword.test   MT-Preparation\n",
            "Anuvaad.as-en.as-filtered.as.subword.train  README\n",
            "Anuvaad.as-en.en\t\t\t    run\n",
            "Anuvaad.as-en.en-filtered.en\t\t    source.model\n",
            "Anuvaad.as-en.en-filtered.en.subword\t    source.vocab\n",
            "Anuvaad.as-en.en-filtered.en.subword.dev    target.model\n",
            "Anuvaad.as-en.en-filtered.en.subword.test   target.vocab\n",
            "Anuvaad.as-en.en-filtered.en.subword.train\n"
          ]
        }
      ],
      "source": [
        "!ls"
      ]
    },
    {
      "cell_type": "code",
      "execution_count": null,
      "metadata": {
        "id": "A_xaNnm2T2lX"
      },
      "outputs": [],
      "source": [
        "!rm -rf drive/MyDrive/en/models/"
      ]
    },
    {
      "cell_type": "code",
      "execution_count": null,
      "metadata": {
        "id": "sA3lmes4UTMs"
      },
      "outputs": [],
      "source": [
        "!onmt_train -config config.yaml"
      ]
    },
    {
      "cell_type": "code",
      "execution_count": null,
      "metadata": {
        "colab": {
          "base_uri": "https://localhost:8080/"
        },
        "id": "5Dfe-FknmFMt",
        "outputId": "bb2c1950-d9df-4f62-9a22-85afb831d257"
      },
      "outputs": [
        {
          "name": "stdout",
          "output_type": "stream",
          "text": [
            "[2023-07-10 05:51:03,600 INFO] Loading checkpoint from models/model.as_en_step_2000.pt\n",
            "[2023-07-10 05:51:05,779 INFO] Loading data into the model\n",
            "[2023-07-10 05:52:46,832 INFO] PRED SCORE: -0.5577, PRED PPL: 1.75 NB SENTENCES: 4000\n"
          ]
        }
      ],
      "source": [
        "!onmt_translate -model models/model.as_en_step_2000.pt -src  Anuvaad.as-en.as-filtered.as.subword.test -output  Anuvaad.en.translated -gpu 0 -min_length 1"
      ]
    },
    {
      "cell_type": "code",
      "execution_count": null,
      "metadata": {
        "id": "P32sXtxnmL1N"
      },
      "outputs": [],
      "source": [
        "!pip3 install --upgrade -q sentencepiece"
      ]
    },
    {
      "cell_type": "code",
      "execution_count": null,
      "metadata": {
        "colab": {
          "base_uri": "https://localhost:8080/"
        },
        "id": "DG1BKzyxmOPr",
        "outputId": "e10e4888-d5ae-4794-d38b-4c74578c75d0"
      },
      "outputs": [
        {
          "name": "stdout",
          "output_type": "stream",
          "text": [
            "Done desubwording! Output: Anuvaad.as-en.en-filtered.en.subword.test.desubword\n"
          ]
        }
      ],
      "source": [
        "!python3 MT-Preparation/3-desubword.py target.model Anuvaad.as-en.en-filtered.en.subword.test"
      ]
    },
    {
      "cell_type": "code",
      "execution_count": null,
      "metadata": {
        "colab": {
          "base_uri": "https://localhost:8080/"
        },
        "id": "2reW_vkZmO4z",
        "outputId": "ec3bfcb0-f1ea-49fa-810c-509db78c18fb"
      },
      "outputs": [
        {
          "name": "stdout",
          "output_type": "stream",
          "text": [
            "Done desubwording! Output: Anuvaad.en.translated.desubword\n"
          ]
        }
      ],
      "source": [
        "!python3 MT-Preparation/3-desubword.py target.model Anuvaad.en.translated"
      ]
    },
    {
      "cell_type": "code",
      "execution_count": null,
      "metadata": {
        "colab": {
          "base_uri": "https://localhost:8080/"
        },
        "id": "skMtyBPcmQs1",
        "outputId": "50e252c8-e324-4bdf-fd0d-7ad61a782542"
      },
      "outputs": [
        {
          "name": "stdout",
          "output_type": "stream",
          "text": [
            "--2023-07-10 05:52:57--  https://raw.githubusercontent.com/ymoslem/MT-Evaluation/main/BLEU/compute-bleu.py\n",
            "Resolving raw.githubusercontent.com (raw.githubusercontent.com)... 185.199.108.133, 185.199.109.133, 185.199.110.133, ...\n",
            "Connecting to raw.githubusercontent.com (raw.githubusercontent.com)|185.199.108.133|:443... connected.\n",
            "HTTP request sent, awaiting response... 200 OK\n",
            "Length: 957 [text/plain]\n",
            "Saving to: ‘compute-bleu.py’\n",
            "\n",
            "compute-bleu.py     100%[===================>]     957  --.-KB/s    in 0s      \n",
            "\n",
            "2023-07-10 05:52:57 (27.3 MB/s) - ‘compute-bleu.py’ saved [957/957]\n",
            "\n"
          ]
        }
      ],
      "source": [
        "!wget https://raw.githubusercontent.com/ymoslem/MT-Evaluation/main/BLEU/compute-bleu.py"
      ]
    },
    {
      "cell_type": "code",
      "execution_count": null,
      "metadata": {
        "colab": {
          "base_uri": "https://localhost:8080/"
        },
        "id": "pLkpwmB2mST1",
        "outputId": "5e1e86cd-782f-431e-8aef-37f61de4eb98"
      },
      "outputs": [
        {
          "name": "stdout",
          "output_type": "stream",
          "text": [
            "Requirement already satisfied: sacrebleu in /usr/local/lib/python3.10/dist-packages (2.3.1)\n",
            "Requirement already satisfied: portalocker in /usr/local/lib/python3.10/dist-packages (from sacrebleu) (2.7.0)\n",
            "Requirement already satisfied: regex in /usr/local/lib/python3.10/dist-packages (from sacrebleu) (2022.10.31)\n",
            "Requirement already satisfied: tabulate>=0.8.9 in /usr/local/lib/python3.10/dist-packages (from sacrebleu) (0.8.10)\n",
            "Requirement already satisfied: numpy>=1.17 in /usr/local/lib/python3.10/dist-packages (from sacrebleu) (1.22.4)\n",
            "Requirement already satisfied: colorama in /usr/local/lib/python3.10/dist-packages (from sacrebleu) (0.4.6)\n",
            "Requirement already satisfied: lxml in /usr/local/lib/python3.10/dist-packages (from sacrebleu) (4.9.2)\n"
          ]
        }
      ],
      "source": [
        "!pip3 install sacrebleu"
      ]
    },
    {
      "cell_type": "code",
      "execution_count": null,
      "metadata": {
        "colab": {
          "base_uri": "https://localhost:8080/"
        },
        "id": "aGPMlmKJmUUV",
        "outputId": "14c8d12f-1f0f-4f9d-d1dc-dbbe041663ce"
      },
      "outputs": [
        {
          "name": "stdout",
          "output_type": "stream",
          "text": [
            "Reference 1st sentence: To Apply: The application should be submitted ONLINE only for the above post\n",
            "MTed 1st sentence: To apply: The soft copy of the application will be accepted.\n",
            "BLEU:  19.70241145514799\n"
          ]
        }
      ],
      "source": [
        "!python3 compute-bleu.py Anuvaad.as-en.en-filtered.en.subword.test.desubword Anuvaad.en.translated.desubword"
      ]
    },
    {
      "cell_type": "markdown",
      "metadata": {
        "id": "uye-MO8ttM1F"
      },
      "source": [
        "OPUS"
      ]
    },
    {
      "cell_type": "code",
      "execution_count": null,
      "metadata": {
        "colab": {
          "base_uri": "https://localhost:8080/",
          "height": 73
        },
        "id": "EMMGeBQHtOPv",
        "outputId": "93462e07-1d74-40e8-aa47-654650376e5f"
      },
      "outputs": [
        {
          "data": {
            "text/html": [
              "\n",
              "     <input type=\"file\" id=\"files-3060c912-f30f-470e-aee7-562706641e02\" name=\"files[]\" multiple disabled\n",
              "        style=\"border:none\" />\n",
              "     <output id=\"result-3060c912-f30f-470e-aee7-562706641e02\">\n",
              "      Upload widget is only available when the cell has been executed in the\n",
              "      current browser session. Please rerun this cell to enable.\n",
              "      </output>\n",
              "      <script>// Copyright 2017 Google LLC\n",
              "//\n",
              "// Licensed under the Apache License, Version 2.0 (the \"License\");\n",
              "// you may not use this file except in compliance with the License.\n",
              "// You may obtain a copy of the License at\n",
              "//\n",
              "//      http://www.apache.org/licenses/LICENSE-2.0\n",
              "//\n",
              "// Unless required by applicable law or agreed to in writing, software\n",
              "// distributed under the License is distributed on an \"AS IS\" BASIS,\n",
              "// WITHOUT WARRANTIES OR CONDITIONS OF ANY KIND, either express or implied.\n",
              "// See the License for the specific language governing permissions and\n",
              "// limitations under the License.\n",
              "\n",
              "/**\n",
              " * @fileoverview Helpers for google.colab Python module.\n",
              " */\n",
              "(function(scope) {\n",
              "function span(text, styleAttributes = {}) {\n",
              "  const element = document.createElement('span');\n",
              "  element.textContent = text;\n",
              "  for (const key of Object.keys(styleAttributes)) {\n",
              "    element.style[key] = styleAttributes[key];\n",
              "  }\n",
              "  return element;\n",
              "}\n",
              "\n",
              "// Max number of bytes which will be uploaded at a time.\n",
              "const MAX_PAYLOAD_SIZE = 100 * 1024;\n",
              "\n",
              "function _uploadFiles(inputId, outputId) {\n",
              "  const steps = uploadFilesStep(inputId, outputId);\n",
              "  const outputElement = document.getElementById(outputId);\n",
              "  // Cache steps on the outputElement to make it available for the next call\n",
              "  // to uploadFilesContinue from Python.\n",
              "  outputElement.steps = steps;\n",
              "\n",
              "  return _uploadFilesContinue(outputId);\n",
              "}\n",
              "\n",
              "// This is roughly an async generator (not supported in the browser yet),\n",
              "// where there are multiple asynchronous steps and the Python side is going\n",
              "// to poll for completion of each step.\n",
              "// This uses a Promise to block the python side on completion of each step,\n",
              "// then passes the result of the previous step as the input to the next step.\n",
              "function _uploadFilesContinue(outputId) {\n",
              "  const outputElement = document.getElementById(outputId);\n",
              "  const steps = outputElement.steps;\n",
              "\n",
              "  const next = steps.next(outputElement.lastPromiseValue);\n",
              "  return Promise.resolve(next.value.promise).then((value) => {\n",
              "    // Cache the last promise value to make it available to the next\n",
              "    // step of the generator.\n",
              "    outputElement.lastPromiseValue = value;\n",
              "    return next.value.response;\n",
              "  });\n",
              "}\n",
              "\n",
              "/**\n",
              " * Generator function which is called between each async step of the upload\n",
              " * process.\n",
              " * @param {string} inputId Element ID of the input file picker element.\n",
              " * @param {string} outputId Element ID of the output display.\n",
              " * @return {!Iterable<!Object>} Iterable of next steps.\n",
              " */\n",
              "function* uploadFilesStep(inputId, outputId) {\n",
              "  const inputElement = document.getElementById(inputId);\n",
              "  inputElement.disabled = false;\n",
              "\n",
              "  const outputElement = document.getElementById(outputId);\n",
              "  outputElement.innerHTML = '';\n",
              "\n",
              "  const pickedPromise = new Promise((resolve) => {\n",
              "    inputElement.addEventListener('change', (e) => {\n",
              "      resolve(e.target.files);\n",
              "    });\n",
              "  });\n",
              "\n",
              "  const cancel = document.createElement('button');\n",
              "  inputElement.parentElement.appendChild(cancel);\n",
              "  cancel.textContent = 'Cancel upload';\n",
              "  const cancelPromise = new Promise((resolve) => {\n",
              "    cancel.onclick = () => {\n",
              "      resolve(null);\n",
              "    };\n",
              "  });\n",
              "\n",
              "  // Wait for the user to pick the files.\n",
              "  const files = yield {\n",
              "    promise: Promise.race([pickedPromise, cancelPromise]),\n",
              "    response: {\n",
              "      action: 'starting',\n",
              "    }\n",
              "  };\n",
              "\n",
              "  cancel.remove();\n",
              "\n",
              "  // Disable the input element since further picks are not allowed.\n",
              "  inputElement.disabled = true;\n",
              "\n",
              "  if (!files) {\n",
              "    return {\n",
              "      response: {\n",
              "        action: 'complete',\n",
              "      }\n",
              "    };\n",
              "  }\n",
              "\n",
              "  for (const file of files) {\n",
              "    const li = document.createElement('li');\n",
              "    li.append(span(file.name, {fontWeight: 'bold'}));\n",
              "    li.append(span(\n",
              "        `(${file.type || 'n/a'}) - ${file.size} bytes, ` +\n",
              "        `last modified: ${\n",
              "            file.lastModifiedDate ? file.lastModifiedDate.toLocaleDateString() :\n",
              "                                    'n/a'} - `));\n",
              "    const percent = span('0% done');\n",
              "    li.appendChild(percent);\n",
              "\n",
              "    outputElement.appendChild(li);\n",
              "\n",
              "    const fileDataPromise = new Promise((resolve) => {\n",
              "      const reader = new FileReader();\n",
              "      reader.onload = (e) => {\n",
              "        resolve(e.target.result);\n",
              "      };\n",
              "      reader.readAsArrayBuffer(file);\n",
              "    });\n",
              "    // Wait for the data to be ready.\n",
              "    let fileData = yield {\n",
              "      promise: fileDataPromise,\n",
              "      response: {\n",
              "        action: 'continue',\n",
              "      }\n",
              "    };\n",
              "\n",
              "    // Use a chunked sending to avoid message size limits. See b/62115660.\n",
              "    let position = 0;\n",
              "    do {\n",
              "      const length = Math.min(fileData.byteLength - position, MAX_PAYLOAD_SIZE);\n",
              "      const chunk = new Uint8Array(fileData, position, length);\n",
              "      position += length;\n",
              "\n",
              "      const base64 = btoa(String.fromCharCode.apply(null, chunk));\n",
              "      yield {\n",
              "        response: {\n",
              "          action: 'append',\n",
              "          file: file.name,\n",
              "          data: base64,\n",
              "        },\n",
              "      };\n",
              "\n",
              "      let percentDone = fileData.byteLength === 0 ?\n",
              "          100 :\n",
              "          Math.round((position / fileData.byteLength) * 100);\n",
              "      percent.textContent = `${percentDone}% done`;\n",
              "\n",
              "    } while (position < fileData.byteLength);\n",
              "  }\n",
              "\n",
              "  // All done.\n",
              "  yield {\n",
              "    response: {\n",
              "      action: 'complete',\n",
              "    }\n",
              "  };\n",
              "}\n",
              "\n",
              "scope.google = scope.google || {};\n",
              "scope.google.colab = scope.google.colab || {};\n",
              "scope.google.colab._files = {\n",
              "  _uploadFiles,\n",
              "  _uploadFilesContinue,\n",
              "};\n",
              "})(self);\n",
              "</script> "
            ],
            "text/plain": [
              "<IPython.core.display.HTML object>"
            ]
          },
          "metadata": {},
          "output_type": "display_data"
        },
        {
          "name": "stdout",
          "output_type": "stream",
          "text": [
            "Saving pmindia.as-en.as to pmindia.as-en.as\n"
          ]
        }
      ],
      "source": [
        "from google.colab import files\n",
        "uploaded = files.upload()"
      ]
    },
    {
      "cell_type": "code",
      "execution_count": null,
      "metadata": {
        "colab": {
          "base_uri": "https://localhost:8080/"
        },
        "id": "kUS0nHtitRI3",
        "outputId": "2d8e0b74-4150-453d-dcad-6882365407ba"
      },
      "outputs": [
        {
          "name": "stdout",
          "output_type": "stream",
          "text": [
            "Dataframe shape (rows, columns): (9733, 1)\n",
            "--- Rows with Empty Cells Deleted\t--> Rows: 9732\n",
            "--- Duplicates Deleted\t\t\t--> Rows: 9705\n",
            "--- Too Long Rows Deleted\t\t--> Rows: 9698\n",
            "--- HTML Removed\t\t\t--> Rows: 9698\n",
            "--- Rows will remain in true-cased\t--> Rows: 9698\n",
            "--- Rows with Empty Cells Deleted\t--> Rows: 9698\n",
            "--- Rows Shuffled\t\t\t--> Rows: 9698\n",
            "--- Filtered Data Saved: pmindia.as-en.as-filtered.as\n"
          ]
        }
      ],
      "source": [
        "!python3 MT-Preparation/filtering/filter1.py pmindia.as-en.as as"
      ]
    },
    {
      "cell_type": "code",
      "execution_count": null,
      "metadata": {
        "id": "O_X0t5z0tTub"
      },
      "outputs": [],
      "source": [
        "!python MT-Preparation/subwording/1-train_bpe1.py pmindia.as-en.as-filtered.as as"
      ]
    },
    {
      "cell_type": "code",
      "execution_count": null,
      "metadata": {
        "colab": {
          "base_uri": "https://localhost:8080/"
        },
        "id": "JSoEMMN6tXyD",
        "outputId": "ef43e355-e9fd-4a38-d2af-734c31555bdc"
      },
      "outputs": [
        {
          "name": "stdout",
          "output_type": "stream",
          "text": [
            "Model Path: as.model\n",
            "Raw Dataset: pmindia.as-en.as-filtered.as\n",
            "Done subwording the dataset! Output: pmindia.as-en.as-filtered.as.subword\n"
          ]
        }
      ],
      "source": [
        "!python3 MT-Preparation/subwording/2-subword1.py as.model pmindia.as-en.as-filtered.as"
      ]
    },
    {
      "cell_type": "code",
      "execution_count": null,
      "metadata": {
        "colab": {
          "background_save": true,
          "base_uri": "https://localhost:8080/"
        },
        "id": "kJToSYmgtczN",
        "outputId": "19d63a95-5b7e-44c4-d676-ce6c46ea5de9"
      },
      "outputs": [
        {
          "name": "stdout",
          "output_type": "stream",
          "text": [
            "[2023-07-10 05:59:29,888 INFO] Loading checkpoint from models/model.as_en_step_2000.pt\n",
            "[2023-07-10 05:59:32,041 INFO] Loading data into the model\n",
            "[2023-07-10 06:03:15,839 INFO] PRED SCORE: -0.5562, PRED PPL: 1.74 NB SENTENCES: 9698\n"
          ]
        }
      ],
      "source": [
        "!onmt_translate -model models/model.as_en_step_2000.pt -src  pmindia.as-en.as-filtered.as.subword -output  pmindia.en.translated -gpu 0 -min_length 1"
      ]
    },
    {
      "cell_type": "code",
      "execution_count": null,
      "metadata": {
        "id": "qCzKhjJOzed1",
        "colab": {
          "base_uri": "https://localhost:8080/"
        },
        "outputId": "dec13b0e-0462-459d-f7e3-ee316f4d2fb5"
      },
      "outputs": [
        {
          "output_type": "stream",
          "name": "stdout",
          "text": [
            "Done desubwording! Output: pmindia.en.translated.desubword\n"
          ]
        }
      ],
      "source": [
        "!python3 MT-Preparation/subwording/3-desubword.py target.model pmindia.en.translated"
      ]
    },
    {
      "cell_type": "code",
      "execution_count": null,
      "metadata": {
        "id": "59bPaTpUzljI",
        "colab": {
          "base_uri": "https://localhost:8080/"
        },
        "outputId": "676c9d15-0c3a-4379-ced0-86a4ca6f761c"
      },
      "outputs": [
        {
          "output_type": "stream",
          "name": "stdout",
          "text": [
            "Done desubwording! Output: pmindia.as-en.as-filtered.as.subword.desubword\n"
          ]
        }
      ],
      "source": [
        "!python3 MT-Preparation/subwording/3-desubword.py as.model pmindia.as-en.as-filtered.as.subword"
      ]
    },
    {
      "cell_type": "code",
      "execution_count": null,
      "metadata": {
        "id": "CdJgiXsxzuUa",
        "colab": {
          "base_uri": "https://localhost:8080/"
        },
        "outputId": "d6c5f447-78fe-4238-d1c3-9f6dc6d218a6"
      },
      "outputs": [
        {
          "output_type": "stream",
          "name": "stdout",
          "text": [
            "The amount between India and Oman is thousands of years old.\n",
            "He said that India is going through a great transformation today.\n",
            "PM Modi inaugurated the 9th edition of the Summit at Mahatma Mandir Exhibition cum Convention Centre in Gandhinagar.\n",
            "50% of the operationalization of general category are being manufactured by the banks and 50% stake in the mid-holders, Uttarakhand, Himachal Pradesh, Jammu & Kashmir and Uttarakhand.\n",
            "A geographical definition, as such, cannot be.\n",
            "Heinrich Freiherr Von Stietencron from Germany on the occasion.\n",
            "He called upon all governments to avail the benefit of the farmers.\n",
            "A new Article on ‘Assistance on Collection of Taxes'\n",
            "Exchanging visits by governmental officials, academic staff, scholars, teachers, experts and students.\n",
            "In the year 2017, Japan has been ranked among the most attractive investment by the people of Gujarat on this year.\n"
          ]
        }
      ],
      "source": [
        "!head -n 10 pmindia.en.translated.desubword"
      ]
    },
    {
      "cell_type": "code",
      "source": [
        "!head -n 10 pmindia.as-en.as-filtered.as.subword.desubword"
      ],
      "metadata": {
        "colab": {
          "base_uri": "https://localhost:8080/"
        },
        "id": "A1-M7CiYbYSa",
        "outputId": "44bc41b0-c0bb-4da5-920f-e46992e40d45"
      },
      "execution_count": null,
      "outputs": [
        {
          "output_type": "stream",
          "name": "stdout",
          "text": [
            "ওমান আৰু ভাৰতবৰ্ষৰ মাজৰ সম্পৰ্ক শ বছৰ, হাজাৰ বছৰ পুৰণি।\n",
            "প্ৰধানমন্ত্ৰী মোদীয়ে কয় যে এক বৃহৎ পৰিৱৰ্তনশীল প্রচেষ্টাৰ মাজেৰে ভাৰত বর্তমান আগুৱাই গৈছে।\n",
            "প্ৰধানমন্ত্রী মোদীয়ে গান্ধীনগৰৰ মহাত্মা মন্দিৰ প্ৰদর্শনী আৰু কনভেনচন চেণ্টাৰত সন্মিলনৰ নৱম সংস্কৰণ উদ্বোধন কৰে।\n",
            "সাধাৰণ শ্ৰেণীৰ ৰাজ্যসমূহত কৰা কাৰ্যসমূহৰ বাবে বিত্ত ব্যৱস্থপানা ঘটকৰ বিত্ত পোষণ পদ্ধতি কেন্দ্ৰ আৰু ৰাজ্যৰ ৫০-৫০ শতাংশৰ অনুপাতত অব্যাহত থাকিব৷ পূৰ্বোত্তৰ ৰাজ্যসমূহ, ছিক্কিম, জম্মু-কাশ্মীৰ, হিমাচল প্ৰদেশ আৰু উত্তৰাখণ্ডৰ প্ৰকল্পসমূহৰ বাবে বিত্ত পোষণ পদ্ধতি ৭০ শতাংশ (কেন্দ্ৰ) আৰু ৩০ শতাংশ (ৰাজ্য) অনুপাতত অব্যাহত থাকিব৷\n",
            "ইয়াৰ দৰে ভৌগোলিক সংজ্ঞা একো হ’ব নোৱাৰে।\n",
            "প্ৰয়াগৰাজত ছাফাই কৰ্মীসকলৰ সৈতে মত-বিনিময়ো কৰিব প্ৰধানমন্ত্ৰীয়ে।\n",
            "তেওঁ ৰাজ্য চৰকাৰসমূহক সকলো কুঁহিয়াৰৰ কৃষকক বকেয়া ধন প্ৰদানৰ আহ্বান জনায়।\n",
            "প্রধানমন্ত্রীয়ে বালাংগীৰ–বিচুপলিৰ মাজত এটি নতুন ৰে’ল লাইনৰো উদ্বোধন কৰিব।\n",
            "চৰকাৰী বিষয়া, শৈক্ষিক ষ্টাফ, গৱেষক, শিক্ষক, বিশেষজ্ঞ আৰু শিক্ষাৰ্থীৰদ্বাৰা ভ্ৰমণ আদান-প্ৰদান৷ ২.\n",
            "চলিত বৰ্ষৰ জুলাই মাহত গুজৰাটৰ আমেদাবাদত জেটৰো বিজনেছ ছাপোর্ট চেণ্টাৰ আৰম্ভ কৰাৰ সমান্তৰালভাৱে জাপান–ভাৰত বিনিয়োগ প্রসাৰ পৰিকল্পনাৰ ওপৰত ভিত্তি কৰি দুয়ো দেশে বিনিয়োগৰ প্রসাৰত একাধিক চেমিনাৰ আয়োজন কৰা হৈছে।\n"
          ]
        }
      ]
    },
    {
      "cell_type": "code",
      "source": [
        "pip install sentence-transformers"
      ],
      "metadata": {
        "id": "yOr29F-LlzZR"
      },
      "execution_count": null,
      "outputs": []
    },
    {
      "cell_type": "code",
      "source": [
        "from sentence_transformers import SentenceTransformer\n",
        "from sklearn.metrics.pairwise import cosine_similarity\n",
        "\n",
        "def filter_low_quality_backtranslations(source_texts, back_translations, threshold):\n",
        "    model = SentenceTransformer('xlm-roberta-base')\n",
        "\n",
        "    embeddings_source = model.encode(source_texts)\n",
        "    embeddings_back = model.encode(back_translations)\n",
        "\n",
        "    filtered_translations = [\n",
        "        back_translations[i]\n",
        "        for i in range(len(embeddings_source))\n",
        "        if cosine_similarity([embeddings_source[i]], [embeddings_back[i]]) >= threshold\n",
        "    ]\n",
        "\n",
        "    return filtered_translations\n",
        "\n",
        "with open('pmindia.as-en.as-filtered.as.subword.desubword', 'r', encoding='utf-8') as file:\n",
        "    source_texts = file.read().splitlines()\n",
        "\n",
        "with open('pmindia.en.translated.desubword', 'r', encoding='utf-8') as file:\n",
        "    back_translations = file.read().splitlines()\n",
        "\n",
        "threshold = 0.9 # Set your desired threshold\n",
        "\n",
        "filtered_translations = filter_low_quality_backtranslations(source_texts, back_translations, threshold)\n",
        "print(filtered_translations)\n"
      ],
      "metadata": {
        "id": "javUR057jUh6"
      },
      "execution_count": null,
      "outputs": []
    },
    {
      "cell_type": "code",
      "source": [
        "!python3 MT-Preparation/subwording/add_tag.py pmindia.en.translated.desubword bt"
      ],
      "metadata": {
        "colab": {
          "base_uri": "https://localhost:8080/"
        },
        "id": "dtk_Y4oIs85F",
        "outputId": "aa4a33d8-fbc0-412a-876c-6da84d2ae989"
      },
      "execution_count": null,
      "outputs": [
        {
          "output_type": "stream",
          "name": "stdout",
          "text": [
            "Done desubwording! Output: pmindia.en.translated.desubword.en\n"
          ]
        }
      ]
    },
    {
      "cell_type": "code",
      "source": [
        "!python3 MT-Preparation/subwording/add_tag.py pmindia.as-en.as-filtered.as.subword.desubword bt"
      ],
      "metadata": {
        "id": "kuaOS4QeuCgm",
        "colab": {
          "base_uri": "https://localhost:8080/"
        },
        "outputId": "471ad91a-e8d3-4343-e790-0f5fbd9d893f"
      },
      "execution_count": null,
      "outputs": [
        {
          "output_type": "stream",
          "name": "stdout",
          "text": [
            "Done desubwording! Output: pmindia.as-en.as-filtered.as.subword.desubword.en\n"
          ]
        }
      ]
    },
    {
      "cell_type": "code",
      "source": [
        "!head -n 10 pmindia.en.translated.desubword.en"
      ],
      "metadata": {
        "colab": {
          "base_uri": "https://localhost:8080/"
        },
        "id": "qfnksWpUtqDZ",
        "outputId": "3538fbaa-a143-4004-a539-32548e4e7ea4"
      },
      "execution_count": null,
      "outputs": [
        {
          "output_type": "stream",
          "name": "stdout",
          "text": [
            "<bt> The amount between India and Oman is thousands of years old.\n",
            "<bt> He said that India is going through a great transformation today.\n",
            "<bt> PM Modi inaugurated the 9th edition of the Summit at Mahatma Mandir Exhibition cum Convention Centre in Gandhinagar.\n",
            "<bt> 50% of the operationalization of general category are being manufactured by the banks and 50% stake in the mid-holders, Uttarakhand, Himachal Pradesh, Jammu & Kashmir and Uttarakhand.\n",
            "<bt> A geographical definition, as such, cannot be.\n",
            "<bt> Heinrich Freiherr Von Stietencron from Germany on the occasion.\n",
            "<bt> He called upon all governments to avail the benefit of the farmers.\n",
            "<bt> A new Article on ‘Assistance on Collection of Taxes'\n",
            "<bt> Exchanging visits by governmental officials, academic staff, scholars, teachers, experts and students.\n",
            "<bt> In the year 2017, Japan has been ranked among the most attractive investment by the people of Gujarat on this year.\n"
          ]
        }
      ]
    },
    {
      "cell_type": "code",
      "source": [
        "!head -n 10 pmindia.as-en.as-filtered.as.subword.desubword.en"
      ],
      "metadata": {
        "colab": {
          "base_uri": "https://localhost:8080/"
        },
        "id": "hNRpbQFlzocw",
        "outputId": "abc56afb-759a-4d06-fe79-88cca4849742"
      },
      "execution_count": null,
      "outputs": [
        {
          "output_type": "stream",
          "name": "stdout",
          "text": [
            "<bt> ওমান আৰু ভাৰতবৰ্ষৰ মাজৰ সম্পৰ্ক শ বছৰ, হাজাৰ বছৰ পুৰণি।\n",
            "<bt> প্ৰধানমন্ত্ৰী মোদীয়ে কয় যে এক বৃহৎ পৰিৱৰ্তনশীল প্রচেষ্টাৰ মাজেৰে ভাৰত বর্তমান আগুৱাই গৈছে।\n",
            "<bt> প্ৰধানমন্ত্রী মোদীয়ে গান্ধীনগৰৰ মহাত্মা মন্দিৰ প্ৰদর্শনী আৰু কনভেনচন চেণ্টাৰত সন্মিলনৰ নৱম সংস্কৰণ উদ্বোধন কৰে।\n",
            "<bt> সাধাৰণ শ্ৰেণীৰ ৰাজ্যসমূহত কৰা কাৰ্যসমূহৰ বাবে বিত্ত ব্যৱস্থপানা ঘটকৰ বিত্ত পোষণ পদ্ধতি কেন্দ্ৰ আৰু ৰাজ্যৰ ৫০-৫০ শতাংশৰ অনুপাতত অব্যাহত থাকিব৷ পূৰ্বোত্তৰ ৰাজ্যসমূহ, ছিক্কিম, জম্মু-কাশ্মীৰ, হিমাচল প্ৰদেশ আৰু উত্তৰাখণ্ডৰ প্ৰকল্পসমূহৰ বাবে বিত্ত পোষণ পদ্ধতি ৭০ শতাংশ (কেন্দ্ৰ) আৰু ৩০ শতাংশ (ৰাজ্য) অনুপাতত অব্যাহত থাকিব৷\n",
            "<bt> ইয়াৰ দৰে ভৌগোলিক সংজ্ঞা একো হ’ব নোৱাৰে।\n",
            "<bt> প্ৰয়াগৰাজত ছাফাই কৰ্মীসকলৰ সৈতে মত-বিনিময়ো কৰিব প্ৰধানমন্ত্ৰীয়ে।\n",
            "<bt> তেওঁ ৰাজ্য চৰকাৰসমূহক সকলো কুঁহিয়াৰৰ কৃষকক বকেয়া ধন প্ৰদানৰ আহ্বান জনায়।\n",
            "<bt> প্রধানমন্ত্রীয়ে বালাংগীৰ–বিচুপলিৰ মাজত এটি নতুন ৰে’ল লাইনৰো উদ্বোধন কৰিব।\n",
            "<bt> চৰকাৰী বিষয়া, শৈক্ষিক ষ্টাফ, গৱেষক, শিক্ষক, বিশেষজ্ঞ আৰু শিক্ষাৰ্থীৰদ্বাৰা ভ্ৰমণ আদান-প্ৰদান৷ ২.\n",
            "<bt> চলিত বৰ্ষৰ জুলাই মাহত গুজৰাটৰ আমেদাবাদত জেটৰো বিজনেছ ছাপোর্ট চেণ্টাৰ আৰম্ভ কৰাৰ সমান্তৰালভাৱে জাপান–ভাৰত বিনিয়োগ প্রসাৰ পৰিকল্পনাৰ ওপৰত ভিত্তি কৰি দুয়ো দেশে বিনিয়োগৰ প্রসাৰত একাধিক চেমিনাৰ আয়োজন কৰা হৈছে।\n"
          ]
        }
      ]
    },
    {
      "cell_type": "code",
      "source": [
        "# Specify the file paths\n",
        "file1_path = 'Anuvaad.as-en.en-filtered.en'\n",
        "file2_path = 'pmindia.en.translated.desubword.en'\n",
        "merged_file_path = 'english_final.txt'\n",
        "\n",
        "# Read the content of file1\n",
        "with open(file1_path, 'r') as file1:\n",
        "    file1_content = file1.read()\n",
        "\n",
        "# Read the content of file2\n",
        "with open(file2_path, 'r') as file2:\n",
        "    file2_content = file2.read()\n",
        "\n",
        "# Concatenate the contents of file1 and file2\n",
        "merged_content = file1_content + file2_content\n",
        "\n",
        "# Write the merged content to the merged file\n",
        "with open(merged_file_path, 'w') as merged_file:\n",
        "    merged_file.write(merged_content)\n"
      ],
      "metadata": {
        "id": "9ky_g08hTcu9"
      },
      "execution_count": null,
      "outputs": []
    },
    {
      "cell_type": "code",
      "source": [
        "# Specify the file paths\n",
        "file1_path = 'Anuvaad.as-en.as-filtered.as'\n",
        "file2_path = 'pmindia.as-en.as-filtered.as.subword.desubword.en'\n",
        "merged_file_path = 'assamese_final.txt'\n",
        "\n",
        "# Read the content of file1\n",
        "with open(file1_path, 'r') as file1:\n",
        "    file1_content = file1.read()\n",
        "\n",
        "# Read the content of file2\n",
        "with open(file2_path, 'r') as file2:\n",
        "    file2_content = file2.read()\n",
        "\n",
        "# Concatenate the contents of file1 and file2\n",
        "merged_content = file1_content + file2_content\n",
        "\n",
        "# Write the merged content to the merged file\n",
        "with open(merged_file_path, 'w') as merged_file:\n",
        "    merged_file.write(merged_content)"
      ],
      "metadata": {
        "id": "Ux-bqRU_VMlH"
      },
      "execution_count": null,
      "outputs": []
    },
    {
      "cell_type": "code",
      "source": [
        "from google.colab import files\n",
        "import zipfile\n",
        "\n",
        "# List of file paths to be included in the dataset\n",
        "file_paths = ['assamese_final.txt', 'english_final.txt']\n",
        "\n",
        "# Create a ZIP archive\n",
        "with zipfile.ZipFile('Back_translation.zip', 'w') as zipf:\n",
        "    for file_path in file_paths:\n",
        "        zipf.write(file_path)\n",
        "\n",
        "# Download the ZIP archive\n",
        "files.download('Back_translation.zip')"
      ],
      "metadata": {
        "colab": {
          "base_uri": "https://localhost:8080/",
          "height": 17
        },
        "id": "Qj2ijSXTzsiX",
        "outputId": "36ad08c3-c205-4ac4-98e8-a4532ed0eaa1"
      },
      "execution_count": null,
      "outputs": [
        {
          "output_type": "display_data",
          "data": {
            "text/plain": [
              "<IPython.core.display.Javascript object>"
            ],
            "application/javascript": [
              "\n",
              "    async function download(id, filename, size) {\n",
              "      if (!google.colab.kernel.accessAllowed) {\n",
              "        return;\n",
              "      }\n",
              "      const div = document.createElement('div');\n",
              "      const label = document.createElement('label');\n",
              "      label.textContent = `Downloading \"${filename}\": `;\n",
              "      div.appendChild(label);\n",
              "      const progress = document.createElement('progress');\n",
              "      progress.max = size;\n",
              "      div.appendChild(progress);\n",
              "      document.body.appendChild(div);\n",
              "\n",
              "      const buffers = [];\n",
              "      let downloaded = 0;\n",
              "\n",
              "      const channel = await google.colab.kernel.comms.open(id);\n",
              "      // Send a message to notify the kernel that we're ready.\n",
              "      channel.send({})\n",
              "\n",
              "      for await (const message of channel.messages) {\n",
              "        // Send a message to notify the kernel that we're ready.\n",
              "        channel.send({})\n",
              "        if (message.buffers) {\n",
              "          for (const buffer of message.buffers) {\n",
              "            buffers.push(buffer);\n",
              "            downloaded += buffer.byteLength;\n",
              "            progress.value = downloaded;\n",
              "          }\n",
              "        }\n",
              "      }\n",
              "      const blob = new Blob(buffers, {type: 'application/binary'});\n",
              "      const a = document.createElement('a');\n",
              "      a.href = window.URL.createObjectURL(blob);\n",
              "      a.download = filename;\n",
              "      div.appendChild(a);\n",
              "      a.click();\n",
              "      div.remove();\n",
              "    }\n",
              "  "
            ]
          },
          "metadata": {}
        },
        {
          "output_type": "display_data",
          "data": {
            "text/plain": [
              "<IPython.core.display.Javascript object>"
            ],
            "application/javascript": [
              "download(\"download_a3562880-d6bd-454d-a7f9-23d1b321a257\", \"Back_translation.zip\", 4241778)"
            ]
          },
          "metadata": {}
        }
      ]
    }
  ],
  "metadata": {
    "accelerator": "GPU",
    "colab": {
      "provenance": []
    },
    "kernelspec": {
      "display_name": "Python 3",
      "name": "python3"
    },
    "language_info": {
      "name": "python"
    }
  },
  "nbformat": 4,
  "nbformat_minor": 0
}
